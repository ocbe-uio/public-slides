{
 "cells": [
  {
   "attachments": {},
   "cell_type": "markdown",
   "metadata": {},
   "source": [
    "![](auxiliary/titlepage.png)"
   ]
  },
  {
   "attachments": {},
   "cell_type": "markdown",
   "metadata": {},
   "source": [
    "# Part II: Automatic Differentiation with Zygote.jl\n",
    "\n",
    "![Zygote.jl](auxiliary/Zygote.png)"
   ]
  },
  {
   "attachments": {},
   "cell_type": "markdown",
   "metadata": {},
   "source": [
    "## Why I personally use Julia\n",
    "\n",
    "![Julia](auxiliary/WhyIUseJulia.png)"
   ]
  },
  {
   "attachments": {},
   "cell_type": "markdown",
   "metadata": {},
   "source": [
    "For me, this becomes particularly apparent in the context of automatic differentiation. Here, Julia's main AD system, the [`Zygote.jl` package](https://github.com/FluxML/Zygote.jl), offers a particularly flexible and straightforward way of getting gradients of essentially arbitrary pieces of code. I will illustrate this with a modelling example in a COVID-19 context in the following.\n",
    "\n",
    "The notebook is an adaptation of the notebooks in [this repository](https://github.com/maren-ha/DifferentiableProgrammingForStatisticalModeling) and slides from a presentation I gave about this at the Statistical Computing Workshop at Reisensburg Castle in July 2022."
   ]
  },
  {
   "attachments": {},
   "cell_type": "markdown",
   "metadata": {},
   "source": [
    "## Exemplary modelling challenge\n",
    "\n",
    "First, let's load and install the necessary packages as usual. "
   ]
  },
  {
   "cell_type": "code",
   "execution_count": 20,
   "metadata": {},
   "outputs": [
    {
     "name": "stderr",
     "output_type": "stream",
     "text": [
      "\u001b[32m\u001b[1m  Activating\u001b[22m\u001b[39m project at `~/Desktop/Oslo/InternalSeminarJulia/auxiliary`\n"
     ]
    },
    {
     "name": "stdout",
     "output_type": "stream",
     "text": [
      "\u001b[32m\u001b[1mStatus\u001b[22m\u001b[39m `~/Desktop/Oslo/InternalSeminarJulia/auxiliary/Project.toml`\n",
      " \u001b[90m [336ed68f] \u001b[39mCSV v0.10.11\n",
      "\u001b[32m⌃\u001b[39m\u001b[90m [a93c6f00] \u001b[39mDataFrames v1.3.6\n",
      " \u001b[90m [31c24e10] \u001b[39mDistributions v0.25.96\n",
      " \u001b[90m [38e38edf] \u001b[39mGLM v1.8.3\n",
      " \u001b[90m [91a5bcdd] \u001b[39mPlots v1.38.16\n",
      " \u001b[90m [92933f4c] \u001b[39mProgressMeter v1.7.2\n",
      " \u001b[90m [2913bbd2] \u001b[39mStatsBase v0.34.0\n",
      " \u001b[90m [f3b207a7] \u001b[39mStatsPlots v0.15.5\n",
      "\u001b[32m⌃\u001b[39m\u001b[90m [fce5fe82] \u001b[39mTuring v0.26.1\n",
      " \u001b[90m [112f6efa] \u001b[39mVegaLite v3.2.2\n",
      " \u001b[90m [e88e6eb3] \u001b[39mZygote v0.6.62\n",
      "\u001b[36m\u001b[1mInfo\u001b[22m\u001b[39m Packages marked with \u001b[32m⌃\u001b[39m have new versions available and may be upgradable.\n"
     ]
    }
   ],
   "source": [
    "using Pkg;\n",
    "Pkg.activate(\"auxiliary/\")\n",
    "#Pkg.add([\"GLM\", \"ProgressMeter\", \"StatsBase\", \"Zygote\"])\n",
    "Pkg.instantiate()\n",
    "\n",
    "Pkg.status()\n",
    "\n",
    "using CSV \n",
    "using DataFrames\n",
    "using GLM \n",
    "using LinearAlgebra\n",
    "using ProgressMeter\n",
    "using Random\n",
    "using Statistics\n",
    "using StatsBase\n",
    "using StatsPlots\n",
    "using VegaLite\n",
    "using Zygote "
   ]
  },
  {
   "attachments": {},
   "cell_type": "markdown",
   "metadata": {},
   "source": [
    "At the beginning of the pandemic, our institute was asked by the Robert Koch Institute, the main health authority that monitored the COVID-19 pandemic in Germany, and the Federal Ministry for Health, to build a prediction model for COVID-19 ICU demand. The data we were given was a newly-set-up intensive care registry, where each ICU in Germany was required to report daily their numbers of COVID-19 patients in ICUs and normal wards, alongside a bunch of other information. Even though daily reporting was compulsory, the data was still very messy, with many ICUs not reporting at all, and many others reporting only sporadically.\n",
    "\n",
    "To get an idea what the data looked like, let's look at an exemplary hospital from the registry during a period in spring - early summer 2020. \n",
    "\n",
    "Note that the values shown in `:currentcases` have been imputed based on last-observation-carried-forward whenever a report has been missing, as indicated by a $0$ in the `:reported`column. "
   ]
  },
  {
   "cell_type": "code",
   "execution_count": 21,
   "metadata": {},
   "outputs": [
    {
     "data": {
      "text/html": [
       "<div class=\"data-frame\"><p>10 rows × 3 columns</p><table class=\"data-frame\"><thead><tr><th></th><th>date</th><th>currentcases</th><th>reported</th></tr><tr><th></th><th title=\"Dates.Date\">Date</th><th title=\"Float64\">Float64</th><th title=\"Bool\">Bool</th></tr></thead><tbody><tr><th>1</th><td>2020-04-16</td><td>0.0</td><td>0</td></tr><tr><th>2</th><td>2020-04-17</td><td>0.0</td><td>1</td></tr><tr><th>3</th><td>2020-04-18</td><td>0.0</td><td>1</td></tr><tr><th>4</th><td>2020-04-19</td><td>0.0</td><td>1</td></tr><tr><th>5</th><td>2020-04-20</td><td>2.0</td><td>1</td></tr><tr><th>6</th><td>2020-04-21</td><td>0.0</td><td>1</td></tr><tr><th>7</th><td>2020-04-22</td><td>1.0</td><td>1</td></tr><tr><th>8</th><td>2020-04-23</td><td>2.0</td><td>1</td></tr><tr><th>9</th><td>2020-04-24</td><td>2.0</td><td>1</td></tr><tr><th>10</th><td>2020-04-25</td><td>2.0</td><td>0</td></tr></tbody></table></div>"
      ],
      "text/latex": [
       "\\begin{tabular}{r|ccc}\n",
       "\t& date & currentcases & reported\\\\\n",
       "\t\\hline\n",
       "\t& Date & Float64 & Bool\\\\\n",
       "\t\\hline\n",
       "\t1 & 2020-04-16 & 0.0 & 0 \\\\\n",
       "\t2 & 2020-04-17 & 0.0 & 1 \\\\\n",
       "\t3 & 2020-04-18 & 0.0 & 1 \\\\\n",
       "\t4 & 2020-04-19 & 0.0 & 1 \\\\\n",
       "\t5 & 2020-04-20 & 2.0 & 1 \\\\\n",
       "\t6 & 2020-04-21 & 0.0 & 1 \\\\\n",
       "\t7 & 2020-04-22 & 1.0 & 1 \\\\\n",
       "\t8 & 2020-04-23 & 2.0 & 1 \\\\\n",
       "\t9 & 2020-04-24 & 2.0 & 1 \\\\\n",
       "\t10 & 2020-04-25 & 2.0 & 0 \\\\\n",
       "\\end{tabular}\n"
      ],
      "text/plain": [
       "\u001b[1m10×3 DataFrame\u001b[0m\n",
       "\u001b[1m Row \u001b[0m│\u001b[1m date       \u001b[0m\u001b[1m currentcases \u001b[0m\u001b[1m reported \u001b[0m\n",
       "\u001b[1m     \u001b[0m│\u001b[90m Date       \u001b[0m\u001b[90m Float64      \u001b[0m\u001b[90m Bool     \u001b[0m\n",
       "─────┼────────────────────────────────────\n",
       "   1 │ 2020-04-16           0.0     false\n",
       "   2 │ 2020-04-17           0.0      true\n",
       "   3 │ 2020-04-18           0.0      true\n",
       "   4 │ 2020-04-19           0.0      true\n",
       "   5 │ 2020-04-20           2.0      true\n",
       "   6 │ 2020-04-21           0.0      true\n",
       "   7 │ 2020-04-22           1.0      true\n",
       "   8 │ 2020-04-23           2.0      true\n",
       "   9 │ 2020-04-24           2.0      true\n",
       "  10 │ 2020-04-25           2.0     false"
      ]
     },
     "metadata": {},
     "output_type": "display_data"
    }
   ],
   "source": [
    "#load data  \n",
    "all_hospitals_df = CSV.read(\"auxiliary/data_all_hospitals.csv\", DataFrame)\n",
    "myhospital = all_hospitals_df[all_hospitals_df[!,:hospital] .== 40, [:date, :currentcases, :reported]]\n",
    "first(myhospital, 10)"
   ]
  },
  {
   "attachments": {},
   "cell_type": "markdown",
   "metadata": {},
   "source": [
    "We replace all numbers in `:currentcases` that have been imputed by last-observation-carried-forward with `NaN`, i.e., all values in rows where `:reported` is equal to $0$, and plot the number of current cases over the time interval to visualize the missingness pattern."
   ]
  },
  {
   "cell_type": "code",
   "execution_count": 22,
   "metadata": {},
   "outputs": [
    {
     "data": {
      "application/vnd.vegalite.v5+json": {
       "data": {
        "values": [
         {
          "currentcases": null,
          "date": "2020-04-16",
          "reported": false
         },
         {
          "currentcases": 0,
          "date": "2020-04-17",
          "reported": true
         },
         {
          "currentcases": 0,
          "date": "2020-04-18",
          "reported": true
         },
         {
          "currentcases": 0,
          "date": "2020-04-19",
          "reported": true
         },
         {
          "currentcases": 2,
          "date": "2020-04-20",
          "reported": true
         },
         {
          "currentcases": 0,
          "date": "2020-04-21",
          "reported": true
         },
         {
          "currentcases": 1,
          "date": "2020-04-22",
          "reported": true
         },
         {
          "currentcases": 2,
          "date": "2020-04-23",
          "reported": true
         },
         {
          "currentcases": 2,
          "date": "2020-04-24",
          "reported": true
         },
         {
          "currentcases": null,
          "date": "2020-04-25",
          "reported": false
         },
         {
          "currentcases": 3,
          "date": "2020-04-26",
          "reported": true
         },
         {
          "currentcases": null,
          "date": "2020-04-27",
          "reported": false
         },
         {
          "currentcases": 4,
          "date": "2020-04-28",
          "reported": true
         },
         {
          "currentcases": null,
          "date": "2020-04-29",
          "reported": false
         },
         {
          "currentcases": 5,
          "date": "2020-04-30",
          "reported": true
         },
         {
          "currentcases": null,
          "date": "2020-05-01",
          "reported": false
         },
         {
          "currentcases": null,
          "date": "2020-05-02",
          "reported": false
         },
         {
          "currentcases": null,
          "date": "2020-05-03",
          "reported": false
         },
         {
          "currentcases": 4,
          "date": "2020-05-04",
          "reported": true
         },
         {
          "currentcases": 3,
          "date": "2020-05-05",
          "reported": true
         },
         {
          "currentcases": 2,
          "date": "2020-05-06",
          "reported": true
         },
         {
          "currentcases": 3,
          "date": "2020-05-07",
          "reported": true
         },
         {
          "currentcases": null,
          "date": "2020-05-08",
          "reported": false
         },
         {
          "currentcases": null,
          "date": "2020-05-09",
          "reported": false
         },
         {
          "currentcases": null,
          "date": "2020-05-10",
          "reported": false
         },
         {
          "currentcases": 5,
          "date": "2020-05-11",
          "reported": true
         },
         {
          "currentcases": null,
          "date": "2020-05-12",
          "reported": false
         },
         {
          "currentcases": null,
          "date": "2020-05-13",
          "reported": false
         },
         {
          "currentcases": null,
          "date": "2020-05-14",
          "reported": false
         },
         {
          "currentcases": null,
          "date": "2020-05-15",
          "reported": false
         },
         {
          "currentcases": null,
          "date": "2020-05-16",
          "reported": false
         },
         {
          "currentcases": null,
          "date": "2020-05-17",
          "reported": false
         },
         {
          "currentcases": 1,
          "date": "2020-05-18",
          "reported": true
         },
         {
          "currentcases": 1,
          "date": "2020-05-19",
          "reported": true
         },
         {
          "currentcases": null,
          "date": "2020-05-20",
          "reported": false
         },
         {
          "currentcases": null,
          "date": "2020-05-21",
          "reported": false
         },
         {
          "currentcases": null,
          "date": "2020-05-22",
          "reported": false
         },
         {
          "currentcases": null,
          "date": "2020-05-23",
          "reported": false
         },
         {
          "currentcases": null,
          "date": "2020-05-24",
          "reported": false
         },
         {
          "currentcases": null,
          "date": "2020-05-25",
          "reported": false
         },
         {
          "currentcases": 2,
          "date": "2020-05-26",
          "reported": true
         },
         {
          "currentcases": null,
          "date": "2020-05-27",
          "reported": false
         },
         {
          "currentcases": 3,
          "date": "2020-05-28",
          "reported": true
         },
         {
          "currentcases": null,
          "date": "2020-05-29",
          "reported": false
         },
         {
          "currentcases": null,
          "date": "2020-05-30",
          "reported": false
         },
         {
          "currentcases": null,
          "date": "2020-05-31",
          "reported": false
         },
         {
          "currentcases": null,
          "date": "2020-06-01",
          "reported": false
         },
         {
          "currentcases": null,
          "date": "2020-06-02",
          "reported": false
         },
         {
          "currentcases": null,
          "date": "2020-06-03",
          "reported": false
         },
         {
          "currentcases": null,
          "date": "2020-06-04",
          "reported": false
         },
         {
          "currentcases": null,
          "date": "2020-06-05",
          "reported": false
         },
         {
          "currentcases": null,
          "date": "2020-06-06",
          "reported": false
         },
         {
          "currentcases": null,
          "date": "2020-06-07",
          "reported": false
         },
         {
          "currentcases": 2,
          "date": "2020-06-08",
          "reported": true
         },
         {
          "currentcases": 2,
          "date": "2020-06-09",
          "reported": true
         },
         {
          "currentcases": 1,
          "date": "2020-06-10",
          "reported": true
         },
         {
          "currentcases": 3,
          "date": "2020-06-11",
          "reported": true
         },
         {
          "currentcases": null,
          "date": "2020-06-12",
          "reported": false
         },
         {
          "currentcases": null,
          "date": "2020-06-13",
          "reported": false
         },
         {
          "currentcases": null,
          "date": "2020-06-14",
          "reported": false
         },
         {
          "currentcases": 2,
          "date": "2020-06-15",
          "reported": true
         },
         {
          "currentcases": null,
          "date": "2020-06-16",
          "reported": false
         },
         {
          "currentcases": null,
          "date": "2020-06-17",
          "reported": false
         },
         {
          "currentcases": 2,
          "date": "2020-06-18",
          "reported": true
         },
         {
          "currentcases": 3,
          "date": "2020-06-19",
          "reported": true
         },
         {
          "currentcases": null,
          "date": "2020-06-20",
          "reported": false
         },
         {
          "currentcases": null,
          "date": "2020-06-21",
          "reported": false
         },
         {
          "currentcases": null,
          "date": "2020-06-22",
          "reported": false
         },
         {
          "currentcases": null,
          "date": "2020-06-23",
          "reported": false
         },
         {
          "currentcases": null,
          "date": "2020-06-24",
          "reported": false
         }
        ]
       },
       "encoding": {
        "x": {
         "axis": {
          "title": "Date"
         },
         "field": "date",
         "type": "temporal"
        },
        "y": {
         "axis": {
          "title": "Number of prevalent COVID-19 cases"
         },
         "field": "currentcases",
         "type": "quantitative"
        }
       },
       "height": 150,
       "mark": {
        "color": "#004b96",
        "opacity": 0.8,
        "point": {
         "color": "#004b96",
         "filled": true,
         "opacity": 0.6,
         "size": 100
        },
        "type": "line"
       },
       "width": 700
      },
      "image/png": "[encoded data removed]",
      "image/svg+xml": [
       "<svg xmlns=\"http://www.w3.org/2000/svg\" xmlns:xlink=\"http://www.w3.org/1999/xlink\" version=\"1.1\" class=\"marks\" width=\"738\" height=\"215\" viewBox=\"0 0 738 215\"><rect width=\"738\" height=\"215\" fill=\"white\"/><g fill=\"none\" stroke-miterlimit=\"10\" transform=\"translate(33,28)\"><g class=\"mark-group role-frame root\" role=\"graphics-object\" aria-roledescription=\"group mark container\"><g transform=\"translate(0,0)\"><path class=\"background\" aria-hidden=\"true\" d=\"M0.5,0.5h700v150h-700Z\" stroke=\"#ddd\"/><g><g class=\"mark-group role-axis\" aria-hidden=\"true\"><g transform=\"translate(0.5,150.5)\"><path class=\"background\" aria-hidden=\"true\" d=\"M0,0h0v0h0Z\" pointer-events=\"none\"/><g><g class=\"mark-rule role-axis-grid\" pointer-events=\"none\"><line transform=\"translate(30,-150)\" x2=\"0\" y2=\"150\" stroke=\"#ddd\" stroke-width=\"1\" opacity=\"1\"/><line transform=\"translate(101,-150)\" x2=\"0\" y2=\"150\" stroke=\"#ddd\" stroke-width=\"1\" opacity=\"1\"/><line transform=\"translate(172,-150)\" x2=\"0\" y2=\"150\" stroke=\"#ddd\" stroke-width=\"1\" opacity=\"1\"/><line transform=\"translate(243,-150)\" x2=\"0\" y2=\"150\" stroke=\"#ddd\" stroke-width=\"1\" opacity=\"1\"/><line transform=\"translate(314,-150)\" x2=\"0\" y2=\"150\" stroke=\"#ddd\" stroke-width=\"1\" opacity=\"1\"/><line transform=\"translate(385,-150)\" x2=\"0\" y2=\"150\" stroke=\"#ddd\" stroke-width=\"1\" opacity=\"1\"/><line transform=\"translate(456,-150)\" x2=\"0\" y2=\"150\" stroke=\"#ddd\" stroke-width=\"1\" opacity=\"1\"/><line transform=\"translate(527,-150)\" x2=\"0\" y2=\"150\" stroke=\"#ddd\" stroke-width=\"1\" opacity=\"1\"/><line transform=\"translate(598,-150)\" x2=\"0\" y2=\"150\" stroke=\"#ddd\" stroke-width=\"1\" opacity=\"1\"/><line transform=\"translate(669,-150)\" x2=\"0\" y2=\"150\" stroke=\"#ddd\" stroke-width=\"1\" opacity=\"1\"/></g></g><path class=\"foreground\" aria-hidden=\"true\" d=\"\" pointer-events=\"none\" display=\"none\"/></g></g><g class=\"mark-group role-axis\" aria-hidden=\"true\"><g transform=\"translate(0.5,0.5)\"><path class=\"background\" aria-hidden=\"true\" d=\"M0,0h0v0h0Z\" pointer-events=\"none\"/><g><g class=\"mark-rule role-axis-grid\" pointer-events=\"none\"><line transform=\"translate(0,150)\" x2=\"700\" y2=\"0\" stroke=\"#ddd\" stroke-width=\"1\" opacity=\"1\"/><line transform=\"translate(0,120)\" x2=\"700\" y2=\"0\" stroke=\"#ddd\" stroke-width=\"1\" opacity=\"1\"/><line transform=\"translate(0,90)\" x2=\"700\" y2=\"0\" stroke=\"#ddd\" stroke-width=\"1\" opacity=\"1\"/><line transform=\"translate(0,60)\" x2=\"700\" y2=\"0\" stroke=\"#ddd\" stroke-width=\"1\" opacity=\"1\"/><line transform=\"translate(0,30)\" x2=\"700\" y2=\"0\" stroke=\"#ddd\" stroke-width=\"1\" opacity=\"1\"/><line transform=\"translate(0,0)\" x2=\"700\" y2=\"0\" stroke=\"#ddd\" stroke-width=\"1\" opacity=\"1\"/></g></g><path class=\"foreground\" aria-hidden=\"true\" d=\"\" pointer-events=\"none\" display=\"none\"/></g></g><g class=\"mark-group role-axis\" role=\"graphics-symbol\" aria-roledescription=\"axis\" aria-label=\"X-axis titled 'Date' for a time scale with values from Thursday, 16 April 2020, 2:00:00 AM to Wednesday, 24 June 2020, 2:00:00 AM\"><g transform=\"translate(0.5,150.5)\"><path class=\"background\" aria-hidden=\"true\" d=\"M0,0h0v0h0Z\" pointer-events=\"none\"/><g><g class=\"mark-rule role-axis-tick\" pointer-events=\"none\"><line transform=\"translate(30,0)\" x2=\"0\" y2=\"5\" stroke=\"#888\" stroke-width=\"1\" opacity=\"1\"/><line transform=\"translate(101,0)\" x2=\"0\" y2=\"5\" stroke=\"#888\" stroke-width=\"1\" opacity=\"1\"/><line transform=\"translate(172,0)\" x2=\"0\" y2=\"5\" stroke=\"#888\" stroke-width=\"1\" opacity=\"1\"/><line transform=\"translate(243,0)\" x2=\"0\" y2=\"5\" stroke=\"#888\" stroke-width=\"1\" opacity=\"1\"/><line transform=\"translate(314,0)\" x2=\"0\" y2=\"5\" stroke=\"#888\" stroke-width=\"1\" opacity=\"1\"/><line transform=\"translate(385,0)\" x2=\"0\" y2=\"5\" stroke=\"#888\" stroke-width=\"1\" opacity=\"1\"/><line transform=\"translate(456,0)\" x2=\"0\" y2=\"5\" stroke=\"#888\" stroke-width=\"1\" opacity=\"1\"/><line transform=\"translate(527,0)\" x2=\"0\" y2=\"5\" stroke=\"#888\" stroke-width=\"1\" opacity=\"1\"/><line transform=\"translate(598,0)\" x2=\"0\" y2=\"5\" stroke=\"#888\" stroke-width=\"1\" opacity=\"1\"/><line transform=\"translate(669,0)\" x2=\"0\" y2=\"5\" stroke=\"#888\" stroke-width=\"1\" opacity=\"1\"/></g><g class=\"mark-text role-axis-label\" pointer-events=\"none\"><text text-anchor=\"middle\" transform=\"translate(29.58937198067633,15)\" font-family=\"sans-serif\" font-size=\"10px\" fill=\"#000\" opacity=\"1\">Apr 19</text><text text-anchor=\"middle\" transform=\"translate(100.60386473429952,15)\" font-family=\"sans-serif\" font-size=\"10px\" fill=\"#000\" opacity=\"1\">Apr 26</text><text text-anchor=\"middle\" transform=\"translate(171.6183574879227,15)\" font-family=\"sans-serif\" font-size=\"10px\" fill=\"#000\" opacity=\"1\">May 03</text><text text-anchor=\"middle\" transform=\"translate(242.6328502415459,15)\" font-family=\"sans-serif\" font-size=\"10px\" fill=\"#000\" opacity=\"1\">May 10</text><text text-anchor=\"middle\" transform=\"translate(313.6473429951691,15)\" font-family=\"sans-serif\" font-size=\"10px\" fill=\"#000\" opacity=\"1\">May 17</text><text text-anchor=\"middle\" transform=\"translate(384.66183574879227,15)\" font-family=\"sans-serif\" font-size=\"10px\" fill=\"#000\" opacity=\"1\">May 24</text><text text-anchor=\"middle\" transform=\"translate(455.67632850241546,15)\" font-family=\"sans-serif\" font-size=\"10px\" fill=\"#000\" opacity=\"1\">May 31</text><text text-anchor=\"middle\" transform=\"translate(526.6908212560387,15)\" font-family=\"sans-serif\" font-size=\"10px\" fill=\"#000\" opacity=\"1\">Jun 07</text><text text-anchor=\"middle\" transform=\"translate(597.7053140096618,15)\" font-family=\"sans-serif\" font-size=\"10px\" fill=\"#000\" opacity=\"1\">Jun 14</text><text text-anchor=\"middle\" transform=\"translate(668.7198067632851,15)\" font-family=\"sans-serif\" font-size=\"10px\" fill=\"#000\" opacity=\"1\">Jun 21</text></g><g class=\"mark-rule role-axis-domain\" pointer-events=\"none\"><line transform=\"translate(0,0)\" x2=\"700\" y2=\"0\" stroke=\"#888\" stroke-width=\"1\" opacity=\"1\"/></g><g class=\"mark-text role-axis-title\" pointer-events=\"none\"><text text-anchor=\"middle\" transform=\"translate(350,30)\" font-family=\"sans-serif\" font-size=\"11px\" font-weight=\"bold\" fill=\"#000\" opacity=\"1\">Date</text></g></g><path class=\"foreground\" aria-hidden=\"true\" d=\"\" pointer-events=\"none\" display=\"none\"/></g></g><g class=\"mark-group role-axis\" role=\"graphics-symbol\" aria-roledescription=\"axis\" aria-label=\"Y-axis titled 'Number of prevalent COVID-19 cases' for a linear scale with values from 0 to 5\"><g transform=\"translate(0.5,0.5)\"><path class=\"background\" aria-hidden=\"true\" d=\"M0,0h0v0h0Z\" pointer-events=\"none\"/><g><g class=\"mark-rule role-axis-tick\" pointer-events=\"none\"><line transform=\"translate(0,150)\" x2=\"-5\" y2=\"0\" stroke=\"#888\" stroke-width=\"1\" opacity=\"1\"/><line transform=\"translate(0,120)\" x2=\"-5\" y2=\"0\" stroke=\"#888\" stroke-width=\"1\" opacity=\"1\"/><line transform=\"translate(0,90)\" x2=\"-5\" y2=\"0\" stroke=\"#888\" stroke-width=\"1\" opacity=\"1\"/><line transform=\"translate(0,60)\" x2=\"-5\" y2=\"0\" stroke=\"#888\" stroke-width=\"1\" opacity=\"1\"/><line transform=\"translate(0,30)\" x2=\"-5\" y2=\"0\" stroke=\"#888\" stroke-width=\"1\" opacity=\"1\"/><line transform=\"translate(0,0)\" x2=\"-5\" y2=\"0\" stroke=\"#888\" stroke-width=\"1\" opacity=\"1\"/></g><g class=\"mark-text role-axis-label\" pointer-events=\"none\"><text text-anchor=\"end\" transform=\"translate(-7,153)\" font-family=\"sans-serif\" font-size=\"10px\" fill=\"#000\" opacity=\"1\">0</text><text text-anchor=\"end\" transform=\"translate(-7,123)\" font-family=\"sans-serif\" font-size=\"10px\" fill=\"#000\" opacity=\"1\">1</text><text text-anchor=\"end\" transform=\"translate(-7,93)\" font-family=\"sans-serif\" font-size=\"10px\" fill=\"#000\" opacity=\"1\">2</text><text text-anchor=\"end\" transform=\"translate(-7,63)\" font-family=\"sans-serif\" font-size=\"10px\" fill=\"#000\" opacity=\"1\">3</text><text text-anchor=\"end\" transform=\"translate(-7,32.99999999999999)\" font-family=\"sans-serif\" font-size=\"10px\" fill=\"#000\" opacity=\"1\">4</text><text text-anchor=\"end\" transform=\"translate(-7,3)\" font-family=\"sans-serif\" font-size=\"10px\" fill=\"#000\" opacity=\"1\">5</text></g><g class=\"mark-rule role-axis-domain\" pointer-events=\"none\"><line transform=\"translate(0,150)\" x2=\"0\" y2=\"-150\" stroke=\"#888\" stroke-width=\"1\" opacity=\"1\"/></g><g class=\"mark-text role-axis-title\" pointer-events=\"none\"><text text-anchor=\"middle\" transform=\"translate(-16.5615234375,75) rotate(-90) translate(0,-2)\" font-family=\"sans-serif\" font-size=\"11px\" font-weight=\"bold\" fill=\"#000\" opacity=\"1\">Number of prevalent COVID-19 cases</text></g></g><path class=\"foreground\" aria-hidden=\"true\" d=\"\" pointer-events=\"none\" display=\"none\"/></g></g><g class=\"mark-line role-mark layer_0_marks\" role=\"graphics-object\" aria-roledescription=\"line mark container\"><path aria-label=\"date: Apr 16, 2020; currentcases: 0\" role=\"graphics-symbol\" aria-roledescription=\"line mark\" d=\"M10.145,150L20.29,150L30.435,150L40.58,90L50.725,150L60.87,120L71.014,90L81.159,90M101.449,60ZM121.739,30ZM142.029,0ZM182.609,30L192.754,60L202.899,90L213.043,60M253.623,0ZM324.638,120L334.783,120M405.797,90ZM426.087,60ZM537.681,90L547.826,90L557.971,120L568.116,60M608.696,90ZM639.13,90L649.275,60\" stroke=\"#004b96\" stroke-width=\"2\" opacity=\"0.8\"/></g><g class=\"mark-symbol role-mark layer_1_marks\" role=\"graphics-object\" aria-roledescription=\"symbol mark container\"><path aria-label=\"date: Apr 17, 2020; currentcases: 0\" role=\"graphics-symbol\" aria-roledescription=\"point\" transform=\"translate(10.144927536231885,150)\" d=\"M5,0A5,5,0,1,1,-5,0A5,5,0,1,1,5,0\" fill=\"#004b96\" stroke-width=\"2\" opacity=\"0.6\"/><path aria-label=\"date: Apr 18, 2020; currentcases: 0\" role=\"graphics-symbol\" aria-roledescription=\"point\" transform=\"translate(20.28985507246377,150)\" d=\"M5,0A5,5,0,1,1,-5,0A5,5,0,1,1,5,0\" fill=\"#004b96\" stroke-width=\"2\" opacity=\"0.6\"/><path aria-label=\"date: Apr 19, 2020; currentcases: 0\" role=\"graphics-symbol\" aria-roledescription=\"point\" transform=\"translate(30.434782608695652,150)\" d=\"M5,0A5,5,0,1,1,-5,0A5,5,0,1,1,5,0\" fill=\"#004b96\" stroke-width=\"2\" opacity=\"0.6\"/><path aria-label=\"date: Apr 20, 2020; currentcases: 2\" role=\"graphics-symbol\" aria-roledescription=\"point\" transform=\"translate(40.57971014492754,90)\" d=\"M5,0A5,5,0,1,1,-5,0A5,5,0,1,1,5,0\" fill=\"#004b96\" stroke-width=\"2\" opacity=\"0.6\"/><path aria-label=\"date: Apr 21, 2020; currentcases: 0\" role=\"graphics-symbol\" aria-roledescription=\"point\" transform=\"translate(50.72463768115942,150)\" d=\"M5,0A5,5,0,1,1,-5,0A5,5,0,1,1,5,0\" fill=\"#004b96\" stroke-width=\"2\" opacity=\"0.6\"/><path aria-label=\"date: Apr 22, 2020; currentcases: 1\" role=\"graphics-symbol\" aria-roledescription=\"point\" transform=\"translate(60.869565217391305,120)\" d=\"M5,0A5,5,0,1,1,-5,0A5,5,0,1,1,5,0\" fill=\"#004b96\" stroke-width=\"2\" opacity=\"0.6\"/><path aria-label=\"date: Apr 23, 2020; currentcases: 2\" role=\"graphics-symbol\" aria-roledescription=\"point\" transform=\"translate(71.01449275362319,90)\" d=\"M5,0A5,5,0,1,1,-5,0A5,5,0,1,1,5,0\" fill=\"#004b96\" stroke-width=\"2\" opacity=\"0.6\"/><path aria-label=\"date: Apr 24, 2020; currentcases: 2\" role=\"graphics-symbol\" aria-roledescription=\"point\" transform=\"translate(81.15942028985508,90)\" d=\"M5,0A5,5,0,1,1,-5,0A5,5,0,1,1,5,0\" fill=\"#004b96\" stroke-width=\"2\" opacity=\"0.6\"/><path aria-label=\"date: Apr 26, 2020; currentcases: 3\" role=\"graphics-symbol\" aria-roledescription=\"point\" transform=\"translate(101.44927536231884,60)\" d=\"M5,0A5,5,0,1,1,-5,0A5,5,0,1,1,5,0\" fill=\"#004b96\" stroke-width=\"2\" opacity=\"0.6\"/><path aria-label=\"date: Apr 28, 2020; currentcases: 4\" role=\"graphics-symbol\" aria-roledescription=\"point\" transform=\"translate(121.73913043478261,29.999999999999993)\" d=\"M5,0A5,5,0,1,1,-5,0A5,5,0,1,1,5,0\" fill=\"#004b96\" stroke-width=\"2\" opacity=\"0.6\"/><path aria-label=\"date: Apr 30, 2020; currentcases: 5\" role=\"graphics-symbol\" aria-roledescription=\"point\" transform=\"translate(142.02898550724638,0)\" d=\"M5,0A5,5,0,1,1,-5,0A5,5,0,1,1,5,0\" fill=\"#004b96\" stroke-width=\"2\" opacity=\"0.6\"/><path aria-label=\"date: May 04, 2020; currentcases: 4\" role=\"graphics-symbol\" aria-roledescription=\"point\" transform=\"translate(182.6086956521739,29.999999999999993)\" d=\"M5,0A5,5,0,1,1,-5,0A5,5,0,1,1,5,0\" fill=\"#004b96\" stroke-width=\"2\" opacity=\"0.6\"/><path aria-label=\"date: May 05, 2020; currentcases: 3\" role=\"graphics-symbol\" aria-roledescription=\"point\" transform=\"translate(192.7536231884058,60)\" d=\"M5,0A5,5,0,1,1,-5,0A5,5,0,1,1,5,0\" fill=\"#004b96\" stroke-width=\"2\" opacity=\"0.6\"/><path aria-label=\"date: May 06, 2020; currentcases: 2\" role=\"graphics-symbol\" aria-roledescription=\"point\" transform=\"translate(202.8985507246377,90)\" d=\"M5,0A5,5,0,1,1,-5,0A5,5,0,1,1,5,0\" fill=\"#004b96\" stroke-width=\"2\" opacity=\"0.6\"/><path aria-label=\"date: May 07, 2020; currentcases: 3\" role=\"graphics-symbol\" aria-roledescription=\"point\" transform=\"translate(213.0434782608696,60)\" d=\"M5,0A5,5,0,1,1,-5,0A5,5,0,1,1,5,0\" fill=\"#004b96\" stroke-width=\"2\" opacity=\"0.6\"/><path aria-label=\"date: May 11, 2020; currentcases: 5\" role=\"graphics-symbol\" aria-roledescription=\"point\" transform=\"translate(253.6231884057971,0)\" d=\"M5,0A5,5,0,1,1,-5,0A5,5,0,1,1,5,0\" fill=\"#004b96\" stroke-width=\"2\" opacity=\"0.6\"/><path aria-label=\"date: May 18, 2020; currentcases: 1\" role=\"graphics-symbol\" aria-roledescription=\"point\" transform=\"translate(324.6376811594203,120)\" d=\"M5,0A5,5,0,1,1,-5,0A5,5,0,1,1,5,0\" fill=\"#004b96\" stroke-width=\"2\" opacity=\"0.6\"/><path aria-label=\"date: May 19, 2020; currentcases: 1\" role=\"graphics-symbol\" aria-roledescription=\"point\" transform=\"translate(334.7826086956522,120)\" d=\"M5,0A5,5,0,1,1,-5,0A5,5,0,1,1,5,0\" fill=\"#004b96\" stroke-width=\"2\" opacity=\"0.6\"/><path aria-label=\"date: May 26, 2020; currentcases: 2\" role=\"graphics-symbol\" aria-roledescription=\"point\" transform=\"translate(405.7971014492754,90)\" d=\"M5,0A5,5,0,1,1,-5,0A5,5,0,1,1,5,0\" fill=\"#004b96\" stroke-width=\"2\" opacity=\"0.6\"/><path aria-label=\"date: May 28, 2020; currentcases: 3\" role=\"graphics-symbol\" aria-roledescription=\"point\" transform=\"translate(426.0869565217392,60)\" d=\"M5,0A5,5,0,1,1,-5,0A5,5,0,1,1,5,0\" fill=\"#004b96\" stroke-width=\"2\" opacity=\"0.6\"/><path aria-label=\"date: Jun 08, 2020; currentcases: 2\" role=\"graphics-symbol\" aria-roledescription=\"point\" transform=\"translate(537.6811594202899,90)\" d=\"M5,0A5,5,0,1,1,-5,0A5,5,0,1,1,5,0\" fill=\"#004b96\" stroke-width=\"2\" opacity=\"0.6\"/><path aria-label=\"date: Jun 09, 2020; currentcases: 2\" role=\"graphics-symbol\" aria-roledescription=\"point\" transform=\"translate(547.8260869565217,90)\" d=\"M5,0A5,5,0,1,1,-5,0A5,5,0,1,1,5,0\" fill=\"#004b96\" stroke-width=\"2\" opacity=\"0.6\"/><path aria-label=\"date: Jun 10, 2020; currentcases: 1\" role=\"graphics-symbol\" aria-roledescription=\"point\" transform=\"translate(557.9710144927536,120)\" d=\"M5,0A5,5,0,1,1,-5,0A5,5,0,1,1,5,0\" fill=\"#004b96\" stroke-width=\"2\" opacity=\"0.6\"/><path aria-label=\"date: Jun 11, 2020; currentcases: 3\" role=\"graphics-symbol\" aria-roledescription=\"point\" transform=\"translate(568.1159420289855,60)\" d=\"M5,0A5,5,0,1,1,-5,0A5,5,0,1,1,5,0\" fill=\"#004b96\" stroke-width=\"2\" opacity=\"0.6\"/><path aria-label=\"date: Jun 15, 2020; currentcases: 2\" role=\"graphics-symbol\" aria-roledescription=\"point\" transform=\"translate(608.695652173913,90)\" d=\"M5,0A5,5,0,1,1,-5,0A5,5,0,1,1,5,0\" fill=\"#004b96\" stroke-width=\"2\" opacity=\"0.6\"/><path aria-label=\"date: Jun 18, 2020; currentcases: 2\" role=\"graphics-symbol\" aria-roledescription=\"point\" transform=\"translate(639.1304347826086,90)\" d=\"M5,0A5,5,0,1,1,-5,0A5,5,0,1,1,5,0\" fill=\"#004b96\" stroke-width=\"2\" opacity=\"0.6\"/><path aria-label=\"date: Jun 19, 2020; currentcases: 3\" role=\"graphics-symbol\" aria-roledescription=\"point\" transform=\"translate(649.2753623188406,60)\" d=\"M5,0A5,5,0,1,1,-5,0A5,5,0,1,1,5,0\" fill=\"#004b96\" stroke-width=\"2\" opacity=\"0.6\"/></g></g><path class=\"foreground\" aria-hidden=\"true\" d=\"\" display=\"none\"/></g></g></g></svg>"
      ],
      "text/plain": [
       "@vlplot(\n",
       "    width=700,\n",
       "    height=150,\n",
       "    mark={\n",
       "        point={\n",
       "            filled=true,\n",
       "            size=100,\n",
       "            color=\"#004b96\",\n",
       "            opacity=0.6\n",
       "        },\n",
       "        color=\"#004b96\",\n",
       "        opacity=0.8,\n",
       "        type=\"line\"\n",
       "    },\n",
       "    encoding={\n",
       "        x={\n",
       "            field=\"date\",\n",
       "            axis={\n",
       "                title=\"Date\"\n",
       "            }\n",
       "        },\n",
       "        y={\n",
       "            field=\"currentcases\",\n",
       "            axis={\n",
       "                title=\"Number of prevalent COVID-19 cases\"\n",
       "            }\n",
       "        }\n",
       "    },\n",
       "    data={\n",
       "        values=...\n",
       "    }\n",
       ")"
      ]
     },
     "metadata": {},
     "output_type": "display_data"
    }
   ],
   "source": [
    "myhospital[findall(x -> x == false, myhospital[:,:reported]),:currentcases] .= NaN;\n",
    "\n",
    "figure1=myhospital|> @vlplot(\n",
    "        width=700, height=150,\n",
    "        mark={:line, point={filled=true, size=100, color=\"#004b96\", opacity = 0.6}, color=\"#004b96\", opacity=0.8}, \n",
    "        x={field=:date, axis={title=\"Date\"}},\n",
    "        y={field=:currentcases, axis={title=\"Number of prevalent COVID-19 cases\"}}\n",
    ") "
   ]
  },
  {
   "attachments": {},
   "cell_type": "markdown",
   "metadata": {},
   "source": [
    "Now, imagine standing at say, May 31, having had several days of missing reports, and being tasked with making a prediction for what's going to happen next...? \n",
    "\n",
    "![](auxiliary/PredictionNeeded.png)"
   ]
  },
  {
   "attachments": {},
   "cell_type": "markdown",
   "metadata": {},
   "source": [
    "So here's what we did: We developed a model to predict increments of daily cases, i.e., *changes* in cases from one day to the next. Since the pandemic dynamics differed wildly between different regions and larger and smaller hospitals, we needed individual models for each hospital. We used a simple linear model: \n",
    "\n",
    "![](auxiliary/IncrementModel.png)"
   ]
  },
  {
   "attachments": {},
   "cell_type": "markdown",
   "metadata": {},
   "source": [
    "To account for missing daily reports in our model, we needed to figure out what to do when the number of prevalent cases from the day before is missing. If the number of cases from the day before hasn’t been reported, we take the value from the day before that, and add the model prediction for the change from day $t-1$ to $t$, to we just propagate the model prediction forwards in time from the last observed value, until we have a new observation available: \n",
    "\n",
    "![](auxiliary/IncrementModel2.png)\n",
    "\n",
    "To  illustrate what this means in practice, let's look at different situations in some imaginary hospitals: \n",
    "\n",
    "![](auxiliary/HospitalsMissing.png)\n",
    "\n",
    "The problem with this is that it leads to higher-order terms in the coefficients, and thus a non-linear optimisation problem: \n",
    "\n",
    "![](auxiliary/NonlinearOptProb.png)"
   ]
  },
  {
   "attachments": {},
   "cell_type": "markdown",
   "metadata": {},
   "source": [
    "But, even though maximum likelihood estimation suddenly becomes rather challenging and we cannot write down the model in closed form, it *is* quite straightforward to write down the model loss function as a computer program -- and that's all we need to do automatic differentiation. At least with a flexible system like `Zygote.jl`, where we can differentiate pretty much everything that we can write as code (provided it's differentiable, of course), and thus still estimate model parameters."
   ]
  },
  {
   "cell_type": "code",
   "execution_count": 23,
   "metadata": {},
   "outputs": [
    {
     "data": {
      "text/plain": [
       "loss (generic function with 1 method)"
      ]
     },
     "metadata": {},
     "output_type": "display_data"
    }
   ],
   "source": [
    "function loss(y, z, r, β)\n",
    "    sqerror = 0.0 # squared error\n",
    "    firstseen = false # set to true after skipping potential missings \n",
    "    last_y = 0.0 # prevalent cases from previous time point\n",
    "    contribno = 0.0 # number of non-missing observations\n",
    "\n",
    "    for t = 1:length(y)\n",
    "        # skip missings at the start until first reported value\n",
    "        if !firstseen \n",
    "            if r[t] == 1\n",
    "                firstseen = true\n",
    "                last_y = y[t]\n",
    "            else\n",
    "                continue\n",
    "            end\n",
    "        else # make a prediction for the current increment\n",
    "            pred_dy = β[1] + β[2] * last_y + β[3] * z[t-1] \n",
    "            if r[t] == 1\n",
    "                dy = y[t] - last_y\n",
    "                sqerror += (dy - pred_dy)^2\n",
    "                contribno += 1.0\n",
    "                last_y = y[t]\n",
    "            else\n",
    "                last_y += pred_dy\n",
    "            end \n",
    "        end\n",
    "    end\n",
    "    return sqerror/contribno # return MSE over all reported time points end\n",
    "end"
   ]
  },
  {
   "attachments": {},
   "cell_type": "markdown",
   "metadata": {},
   "source": [
    "So let's see how it's done in Julia! We use automatic differentiation to optimize the model parameters, $\\beta$, by gradient descent on the loss function. "
   ]
  },
  {
   "cell_type": "code",
   "execution_count": 24,
   "metadata": {},
   "outputs": [],
   "source": [
    "# get the data for our chosen hospital\n",
    "myhospital = all_hospitals_df[all_hospitals_df[!,:hospital] .== 40, :]\n",
    "y, z, r = myhospital[1:end-1,:currentcases], myhospital[1:end-1,:incidences], myhospital[1:end-1,:reported]\n",
    "# set aside the last time point in the data to evaluate our prediction on: \n",
    "last_currentcases, lastreported = myhospital[end,:currentcases], myhospital[end,:reported]\n",
    "\n",
    "# initialize the parameters\n",
    "β = [0.0, 0.0, 0.0]\n",
    "losses = [] # save losses during training\n",
    "for epoch=1:1000\n",
    "    curgrad = gradient(arg -> loss(y, z, r, arg), β)\n",
    "    β .-= [0.001, 0.01, 0.001] .* curgrad[1]\n",
    "    push!(losses, loss(y, z, r, β))\n",
    "end"
   ]
  },
  {
   "attachments": {},
   "cell_type": "markdown",
   "metadata": {},
   "source": [
    "We can now visualise the loss: "
   ]
  },
  {
   "cell_type": "code",
   "execution_count": 25,
   "metadata": {},
   "outputs": [
    {
     "data": {
      "application/vnd.vegalite.v5+json": {
       "data": {
        "values": [
         {
          "x": 1,
          "y": 1.7804587348273626
         },
         {
          "x": 2,
          "y": 1.5284681238473774
         },
         {
          "x": 3,
          "y": 1.5213312897587425
         },
         {
          "x": 4,
          "y": 1.5172458110455926
         },
         {
          "x": 5,
          "y": 1.5135734062883326
         },
         {
          "x": 6,
          "y": 1.5100518242768475
         },
         {
          "x": 7,
          "y": 1.5065936343532005
         },
         {
          "x": 8,
          "y": 1.5031819154830508
         },
         {
          "x": 9,
          "y": 1.4998121189043703
         },
         {
          "x": 10,
          "y": 1.4964827402930512
         },
         {
          "x": 11,
          "y": 1.4931929129671753
         },
         {
          "x": 12,
          "y": 1.4899419192725551
         },
         {
          "x": 13,
          "y": 1.4867290851017532
         },
         {
          "x": 14,
          "y": 1.4835537572187785
         },
         {
          "x": 15,
          "y": 1.4804152985604835
         },
         {
          "x": 16,
          "y": 1.4773130868320348
         },
         {
          "x": 17,
          "y": 1.47424651394791
         },
         {
          "x": 18,
          "y": 1.471214985579184
         },
         {
          "x": 19,
          "y": 1.4682179207613837
         },
         {
          "x": 20,
          "y": 1.4652547515129817
         },
         {
          "x": 21,
          "y": 1.462324922470798
         },
         {
          "x": 22,
          "y": 1.4594278905367082
         },
         {
          "x": 23,
          "y": 1.4565631245367099
         },
         {
          "x": 24,
          "y": 1.4537301048912172
         },
         {
          "x": 25,
          "y": 1.4509283232963706
         },
         {
          "x": 26,
          "y": 1.4481572824158648
         },
         {
          "x": 27,
          "y": 1.4454164955828928
         },
         {
          "x": 28,
          "y": 1.442705486511837
         },
         {
          "x": 29,
          "y": 1.4400237890193202
         },
         {
          "x": 30,
          "y": 1.4373709467542723
         },
         {
          "x": 31,
          "y": 1.4347465129366692
         },
         {
          "x": 32,
          "y": 1.4321500501046127
         },
         {
          "x": 33,
          "y": 1.429581129869458
         },
         {
          "x": 34,
          "y": 1.42703933267867
         },
         {
          "x": 35,
          "y": 1.424524247586143
         },
         {
          "x": 36,
          "y": 1.4220354720296937
         },
         {
          "x": 37,
          "y": 1.4195726116154777
         },
         {
          "x": 38,
          "y": 1.4171352799090722
         },
         {
          "x": 39,
          "y": 1.4147230982329912
         },
         {
          "x": 40,
          "y": 1.412335695470391
         },
         {
          "x": 41,
          "y": 1.4099727078747577
         },
         {
          "x": 42,
          "y": 1.4076337788853566
         },
         {
          "x": 43,
          "y": 1.405318558948244
         },
         {
          "x": 44,
          "y": 1.4030267053426388
         },
         {
          "x": 45,
          "y": 1.4007578820124815
         },
         {
          "x": 46,
          "y": 1.3985117594029786
         },
         {
          "x": 47,
          "y": 1.3962880143019833
         },
         {
          "x": 48,
          "y": 1.3940863296860269
         },
         {
          "x": 49,
          "y": 1.3919063945708525
         },
         {
          "x": 50,
          "y": 1.3897479038662939
         },
         {
          "x": 51,
          "y": 1.3876105582353533
         },
         {
          "x": 52,
          "y": 1.385494063957334
         },
         {
          "x": 53,
          "y": 1.3833981327948959
         },
         {
          "x": 54,
          "y": 1.3813224818648986
         },
         {
          "x": 55,
          "y": 1.379266833512906
         },
         {
          "x": 56,
          "y": 1.3772309151912412
         },
         {
          "x": 57,
          "y": 1.3752144593404554
         },
         {
          "x": 58,
          "y": 1.3732172032741194
         },
         {
          "x": 59,
          "y": 1.3712388890668152
         },
         {
          "x": 60,
          "y": 1.3692792634452322
         },
         {
          "x": 61,
          "y": 1.367338077682259
         },
         {
          "x": 62,
          "y": 1.3654150874939859
         },
         {
          "x": 63,
          "y": 1.363510052939517
         },
         {
          "x": 64,
          "y": 1.3616227383234987
         },
         {
          "x": 65,
          "y": 1.359752912101295
         },
         {
          "x": 66,
          "y": 1.357900346786702
         },
         {
          "x": 67,
          "y": 1.3560648188621454
         },
         {
          "x": 68,
          "y": 1.3542461086912676
         },
         {
          "x": 69,
          "y": 1.3524440004338365
         },
         {
          "x": 70,
          "y": 1.3506582819629027
         },
         {
          "x": 71,
          "y": 1.3488887447841351
         },
         {
          "x": 72,
          "y": 1.3471351839572696
         },
         {
          "x": 73,
          "y": 1.3453973980196063
         },
         {
          "x": 74,
          "y": 1.343675188911488
         },
         {
          "x": 75,
          "y": 1.3419683619037093
         },
         {
          "x": 76,
          "y": 1.3402767255267896
         },
         {
          "x": 77,
          "y": 1.3386000915020557
         },
         {
          "x": 78,
          "y": 1.3369382746744842
         },
         {
          "x": 79,
          "y": 1.3352910929472506
         },
         {
          "x": 80,
          "y": 1.3336583672179219
         },
         {
          "x": 81,
          "y": 1.3320399213162684
         },
         {
          "x": 82,
          "y": 1.330435581943623
         },
         {
          "x": 83,
          "y": 1.3288451786137592
         },
         {
          "x": 84,
          "y": 1.327268543595232
         },
         {
          "x": 85,
          "y": 1.325705511855149
         },
         {
          "x": 86,
          "y": 1.3241559210043266
         },
         {
          "x": 87,
          "y": 1.3226196112437856
         },
         {
          "x": 88,
          "y": 1.3210964253125566
         },
         {
          "x": 89,
          "y": 1.319586208436758
         },
         {
          "x": 90,
          "y": 1.3180888082798983
         },
         {
          "x": 91,
          "y": 1.3166040748943857
         },
         {
          "x": 92,
          "y": 1.3151318606741935
         },
         {
          "x": 93,
          "y": 1.3136720203086638
         },
         {
          "x": 94,
          "y": 1.312224410737407
         },
         {
          "x": 95,
          "y": 1.3107888911062748
         },
         {
          "x": 96,
          "y": 1.309365322724369
         },
         {
          "x": 97,
          "y": 1.3079535690220614
         },
         {
          "x": 98,
          "y": 1.3065534955100022
         },
         {
          "x": 99,
          "y": 1.3051649697390766
         },
         {
          "x": 100,
          "y": 1.3037878612612999
         },
         {
          "x": 101,
          "y": 1.3024220415916132
         },
         {
          "x": 102,
          "y": 1.3010673841705593
         },
         {
          "x": 103,
          "y": 1.299723764327817
         },
         {
          "x": 104,
          "y": 1.298391059246568
         },
         {
          "x": 105,
          "y": 1.297069147928679
         },
         {
          "x": 106,
          "y": 1.295757911160666
         },
         {
          "x": 107,
          "y": 1.2944572314804375
         },
         {
          "x": 108,
          "y": 1.2931669931447767
         },
         {
          "x": 109,
          "y": 1.291887082097562
         },
         {
          "x": 110,
          "y": 1.2906173859386878
         },
         {
          "x": 111,
          "y": 1.2893577938936835
         },
         {
          "x": 112,
          "y": 1.2881081967840058
         },
         {
          "x": 113,
          "y": 1.2868684869979812
         },
         {
          "x": 114,
          "y": 1.2856385584623935
         },
         {
          "x": 115,
          "y": 1.28441830661469
         },
         {
          "x": 116,
          "y": 1.2832076283757963
         },
         {
          "x": 117,
          "y": 1.282006422123523
         },
         {
          "x": 118,
          "y": 1.280814587666544
         },
         {
          "x": 119,
          "y": 1.2796320262189398
         },
         {
          "x": 120,
          "y": 1.278458640375291
         },
         {
          "x": 121,
          "y": 1.2772943340862974
         },
         {
          "x": 122,
          "y": 1.276139012634925
         },
         {
          "x": 123,
          "y": 1.2749925826130544
         },
         {
          "x": 124,
          "y": 1.2738549518986273
         },
         {
          "x": 125,
          "y": 1.2727260296332747
         },
         {
          "x": 126,
          "y": 1.271605726200415
         },
         {
          "x": 127,
          "y": 1.2704939532038098
         },
         {
          "x": 128,
          "y": 1.26939062344657
         },
         {
          "x": 129,
          "y": 1.268295650910595
         },
         {
          "x": 130,
          "y": 1.2672089507364421
         },
         {
          "x": 131,
          "y": 1.2661304392036081
         },
         {
          "x": 132,
          "y": 1.2650600337112183
         },
         {
          "x": 133,
          "y": 1.2639976527591084
         },
         {
          "x": 134,
          "y": 1.262943215929301
         },
         {
          "x": 135,
          "y": 1.2618966438678485
         },
         {
          "x": 136,
          "y": 1.2608578582670498
         },
         {
          "x": 137,
          "y": 1.2598267818480287
         },
         {
          "x": 138,
          "y": 1.258803338343656
         },
         {
          "x": 139,
          "y": 1.2577874524818236
         },
         {
          "x": 140,
          "y": 1.2567790499690425
         },
         {
          "x": 141,
          "y": 1.2557780574743787
         },
         {
          "x": 142,
          "y": 1.254784402613699
         },
         {
          "x": 143,
          "y": 1.253798013934234
         },
         {
          "x": 144,
          "y": 1.2528188208994435
         },
         {
          "x": 145,
          "y": 1.2518467538741793
         },
         {
          "x": 146,
          "y": 1.250881744110139
         },
         {
          "x": 147,
          "y": 1.2499237237316052
         },
         {
          "x": 148,
          "y": 1.248972625721459
         },
         {
          "x": 149,
          "y": 1.2480283839074677
         },
         {
          "x": 150,
          "y": 1.2470909329488356
         },
         {
          "x": 151,
          "y": 1.2461602083230146
         },
         {
          "x": 152,
          "y": 1.245236146312767
         },
         {
          "x": 153,
          "y": 1.2443186839934781
         },
         {
          "x": 154,
          "y": 1.2434077592207076
         },
         {
          "x": 155,
          "y": 1.24250331061798
         },
         {
          "x": 156,
          "y": 1.2416052775648043
         },
         {
          "x": 157,
          "y": 1.2407136001849222
         },
         {
          "x": 158,
          "y": 1.239828219334775
         },
         {
          "x": 159,
          "y": 1.2389490765921871
         },
         {
          "x": 160,
          "y": 1.2380761142452643
         },
         {
          "x": 161,
          "y": 1.2372092752814936
         },
         {
          "x": 162,
          "y": 1.2363485033770492
         },
         {
          "x": 163,
          "y": 1.2354937428862955
         },
         {
          "x": 164,
          "y": 1.234644938831484
         },
         {
          "x": 165,
          "y": 1.2338020368926363
         },
         {
          "x": 166,
          "y": 1.232964983397621
         },
         {
          "x": 167,
          "y": 1.2321337253124025
         },
         {
          "x": 168,
          "y": 1.2313082102314703
         },
         {
          "x": 169,
          "y": 1.2304883863684473
         },
         {
          "x": 170,
          "y": 1.2296742025468594
         },
         {
          "x": 171,
          "y": 1.2288656081910794
         },
         {
          "x": 172,
          "y": 1.228062553317429
         },
         {
          "x": 173,
          "y": 1.2272649885254414
         },
         {
          "x": 174,
          "y": 1.2264728649892804
         },
         {
          "x": 175,
          "y": 1.2256861344493144
         },
         {
          "x": 176,
          "y": 1.2249047492038339
         },
         {
          "x": 177,
          "y": 1.2241286621009242
         },
         {
          "x": 178,
          "y": 1.223357826530473
         },
         {
          "x": 179,
          "y": 1.222592196416325
         },
         {
          "x": 180,
          "y": 1.2218317262085714
         },
         {
          "x": 181,
          "y": 1.2210763708759749
         },
         {
          "x": 182,
          "y": 1.2203260858985248
         },
         {
          "x": 183,
          "y": 1.2195808272601236
         },
         {
          "x": 184,
          "y": 1.218840551441402
         },
         {
          "x": 185,
          "y": 1.2181052154126524
         },
         {
          "x": 186,
          "y": 1.2173747766268903
         },
         {
          "x": 187,
          "y": 1.2166491930130294
         },
         {
          "x": 188,
          "y": 1.2159284229691791
         },
         {
          "x": 189,
          "y": 1.215212425356051
         },
         {
          "x": 190,
          "y": 1.2145011594904818
         },
         {
          "x": 191,
          "y": 1.213794585139061
         },
         {
          "x": 192,
          "y": 1.2130926625118745
         },
         {
          "x": 193,
          "y": 1.2123953522563449
         },
         {
          "x": 194,
          "y": 1.2117026154511814
         },
         {
          "x": 195,
          "y": 1.2110144136004275
         },
         {
          "x": 196,
          "y": 1.2103307086276114
         },
         {
          "x": 197,
          "y": 1.2096514628699904
         },
         {
          "x": 198,
          "y": 1.208976639072894
         },
         {
          "x": 199,
          "y": 1.2083062003841598
         },
         {
          "x": 200,
          "y": 1.2076401103486583
         },
         {
          "x": 201,
          "y": 1.206978332902914
         },
         {
          "x": 202,
          "y": 1.2063208323698094
         },
         {
          "x": 203,
          "y": 1.2056675734533777
         },
         {
          "x": 204,
          "y": 1.205018521233681
         },
         {
          "x": 205,
          "y": 1.2043736411617714
         },
         {
          "x": 206,
          "y": 1.2037328990547331
         },
         {
          "x": 207,
          "y": 1.2030962610908076
         },
         {
          "x": 208,
          "y": 1.2024636938045927
         },
         {
          "x": 209,
          "y": 1.2018351640823242
         },
         {
          "x": 210,
          "y": 1.2012106391572295
         },
         {
          "x": 211,
          "y": 1.2005900866049566
         },
         {
          "x": 212,
          "y": 1.1999734743390766
         },
         {
          "x": 213,
          "y": 1.199360770606659
         },
         {
          "x": 214,
          "y": 1.1987519439839127
         },
         {
          "x": 215,
          "y": 1.1981469633719006
         },
         {
          "x": 216,
          "y": 1.197545797992322
         },
         {
          "x": 217,
          "y": 1.1969484173833558
         },
         {
          "x": 218,
          "y": 1.1963547913955763
         },
         {
          "x": 219,
          "y": 1.1957648901879256
         },
         {
          "x": 220,
          "y": 1.1951786842237573
         },
         {
          "x": 221,
          "y": 1.1945961442669324
         },
         {
          "x": 222,
          "y": 1.194017241377984
         },
         {
          "x": 223,
          "y": 1.193441946910336
         },
         {
          "x": 224,
          "y": 1.1928702325065825
         },
         {
          "x": 225,
          "y": 1.1923020700948244
         },
         {
          "x": 226,
          "y": 1.1917374318850606
         },
         {
          "x": 227,
          "y": 1.1911762903656375
         },
         {
          "x": 228,
          "y": 1.19061861829975
         },
         {
          "x": 229,
          "y": 1.190064388721996
         },
         {
          "x": 230,
          "y": 1.1895135749349839
         },
         {
          "x": 231,
          "y": 1.188966150505995
         },
         {
          "x": 232,
          "y": 1.1884220892636879
         },
         {
          "x": 233,
          "y": 1.1878813652948597
         },
         {
          "x": 234,
          "y": 1.1873439529412546
         },
         {
          "x": 235,
          "y": 1.1868098267964184
         },
         {
          "x": 236,
          "y": 1.1862789617026004
         },
         {
          "x": 237,
          "y": 1.185751332747703
         },
         {
          "x": 238,
          "y": 1.185226915262276
         },
         {
          "x": 239,
          "y": 1.1847056848165538
         },
         {
          "x": 240,
          "y": 1.1841876172175394
         },
         {
          "x": 241,
          "y": 1.183672688506129
         },
         {
          "x": 242,
          "y": 1.1831608749542792
         },
         {
          "x": 243,
          "y": 1.1826521530622183
         },
         {
          "x": 244,
          "y": 1.1821464995556943
         },
         {
          "x": 245,
          "y": 1.1816438913832656
         },
         {
          "x": 246,
          "y": 1.1811443057136324
         },
         {
          "x": 247,
          "y": 1.1806477199330028
         },
         {
          "x": 248,
          "y": 1.180154111642501
         },
         {
          "x": 249,
          "y": 1.1796634586556114
         },
         {
          "x": 250,
          "y": 1.1791757389956585
         },
         {
          "x": 251,
          "y": 1.1786909308933258
         },
         {
          "x": 252,
          "y": 1.1782090127842055
         },
         {
          "x": 253,
          "y": 1.17772996330639
         },
         {
          "x": 254,
          "y": 1.1772537612980918
         },
         {
          "x": 255,
          "y": 1.1767803857952992
         },
         {
          "x": 256,
          "y": 1.1763098160294665
         },
         {
          "x": 257,
          "y": 1.175842031425237
         },
         {
          "x": 258,
          "y": 1.1753770115981934
         },
         {
          "x": 259,
          "y": 1.1749147363526486
         },
         {
          "x": 260,
          "y": 1.1744551856794583
         },
         {
          "x": 261,
          "y": 1.1739983397538707
         },
         {
          "x": 262,
          "y": 1.173544178933404
         },
         {
          "x": 263,
          "y": 1.1730926837557532
         },
         {
          "x": 264,
          "y": 1.172643834936725
         },
         {
          "x": 265,
          "y": 1.172197613368205
         },
         {
          "x": 266,
          "y": 1.1717540001161508
         },
         {
          "x": 267,
          "y": 1.1713129764186097
         },
         {
          "x": 268,
          "y": 1.1708745236837712
         },
         {
          "x": 269,
          "y": 1.1704386234880382
         },
         {
          "x": 270,
          "y": 1.17000525757413
         },
         {
          "x": 271,
          "y": 1.1695744078492096
         },
         {
          "x": 272,
          "y": 1.1691460563830351
         },
         {
          "x": 273,
          "y": 1.1687201854061413
         },
         {
          "x": 274,
          "y": 1.1682967773080368
         },
         {
          "x": 275,
          "y": 1.167875814635435
         },
         {
          "x": 276,
          "y": 1.1674572800905056
         },
         {
          "x": 277,
          "y": 1.167041156529145
         },
         {
          "x": 278,
          "y": 1.1666274269592785
         },
         {
          "x": 279,
          "y": 1.1662160745391774
         },
         {
          "x": 280,
          "y": 1.165807082575806
         },
         {
          "x": 281,
          "y": 1.165400434523182
         },
         {
          "x": 282,
          "y": 1.1649961139807665
         },
         {
          "x": 283,
          "y": 1.1645941046918724
         },
         {
          "x": 284,
          "y": 1.1641943905420922
         },
         {
          "x": 285,
          "y": 1.1637969555577496
         },
         {
          "x": 286,
          "y": 1.1634017839043698
         },
         {
          "x": 287,
          "y": 1.163008859885169
         },
         {
          "x": 288,
          "y": 1.162618167939568
         },
         {
          "x": 289,
          "y": 1.1622296926417193
         },
         {
          "x": 290,
          "y": 1.1618434186990578
         },
         {
          "x": 291,
          "y": 1.1614593309508692
         },
         {
          "x": 292,
          "y": 1.1610774143668758
         },
         {
          "x": 293,
          "y": 1.160697654045844
         },
         {
          "x": 294,
          "y": 1.1603200352142038
         },
         {
          "x": 295,
          "y": 1.1599445432246935
         },
         {
          "x": 296,
          "y": 1.159571163555017
         },
         {
          "x": 297,
          "y": 1.1591998818065188
         },
         {
          "x": 298,
          "y": 1.1588306837028777
         },
         {
          "x": 299,
          "y": 1.1584635550888152
         },
         {
          "x": 300,
          "y": 1.158098481928824
         },
         {
          "x": 301,
          "y": 1.1577354503059067
         },
         {
          "x": 302,
          "y": 1.1573744464203382
         },
         {
          "x": 303,
          "y": 1.1570154565884359
         },
         {
          "x": 304,
          "y": 1.15665846724135
         },
         {
          "x": 305,
          "y": 1.156303464923871
         },
         {
          "x": 306,
          "y": 1.155950436293247
         },
         {
          "x": 307,
          "y": 1.155599368118017
         },
         {
          "x": 308,
          "y": 1.1552502472768653
         },
         {
          "x": 309,
          "y": 1.1549030607574793
         },
         {
          "x": 310,
          "y": 1.1545577956554316
         },
         {
          "x": 311,
          "y": 1.1542144391730698
         },
         {
          "x": 312,
          "y": 1.1538729786184228
         },
         {
          "x": 313,
          "y": 1.1535334014041196
         },
         {
          "x": 314,
          "y": 1.1531956950463225
         },
         {
          "x": 315,
          "y": 1.1528598471636722
         },
         {
          "x": 316,
          "y": 1.1525258454762473
         },
         {
          "x": 317,
          "y": 1.1521936778045343
         },
         {
          "x": 318,
          "y": 1.1518633320684146
         },
         {
          "x": 319,
          "y": 1.1515347962861584
         },
         {
          "x": 320,
          "y": 1.1512080585734341
         },
         {
          "x": 321,
          "y": 1.1508831071423293
         },
         {
          "x": 322,
          "y": 1.1505599303003857
         },
         {
          "x": 323,
          "y": 1.15023851644964
         },
         {
          "x": 324,
          "y": 1.1499188540856837
         },
         {
          "x": 325,
          "y": 1.149600931796727
         },
         {
          "x": 326,
          "y": 1.149284738262681
         },
         {
          "x": 327,
          "y": 1.1489702622542457
         },
         {
          "x": 328,
          "y": 1.1486574926320094
         },
         {
          "x": 329,
          "y": 1.1483464183455652
         },
         {
          "x": 330,
          "y": 1.148037028432627
         },
         {
          "x": 331,
          "y": 1.1477293120181662
         },
         {
          "x": 332,
          "y": 1.147423258313553
         },
         {
          "x": 333,
          "y": 1.1471188566157113
         },
         {
          "x": 334,
          "y": 1.1468160963062795
         },
         {
          "x": 335,
          "y": 1.1465149668507841
         },
         {
          "x": 336,
          "y": 1.1462154577978252
         },
         {
          "x": 337,
          "y": 1.145917558778264
         },
         {
          "x": 338,
          "y": 1.1456212595044304
         },
         {
          "x": 339,
          "y": 1.1453265497693297
         },
         {
          "x": 340,
          "y": 1.1450334194458653
         },
         {
          "x": 341,
          "y": 1.144741858486068
         },
         {
          "x": 342,
          "y": 1.1444518569203344
         },
         {
          "x": 343,
          "y": 1.1441634048566744
         },
         {
          "x": 344,
          "y": 1.143876492479968
         },
         {
          "x": 345,
          "y": 1.1435911100512284
         },
         {
          "x": 346,
          "y": 1.1433072479068778
         },
         {
          "x": 347,
          "y": 1.143024896458027
         },
         {
          "x": 348,
          "y": 1.142744046189765
         },
         {
          "x": 349,
          "y": 1.1424646876604603
         },
         {
          "x": 350,
          "y": 1.1421868115010638
         },
         {
          "x": 351,
          "y": 1.1419104084144223
         },
         {
          "x": 352,
          "y": 1.1416354691746053
         },
         {
          "x": 353,
          "y": 1.1413619846262286
         },
         {
          "x": 354,
          "y": 1.1410899456837957
         },
         {
          "x": 355,
          "y": 1.1408193433310407
         },
         {
          "x": 356,
          "y": 1.140550168620281
         },
         {
          "x": 357,
          "y": 1.140282412671777
         },
         {
          "x": 358,
          "y": 1.1400160666730978
         },
         {
          "x": 359,
          "y": 1.1397511218784968
         },
         {
          "x": 360,
          "y": 1.139487569608291
         },
         {
          "x": 361,
          "y": 1.139225401248249
         },
         {
          "x": 362,
          "y": 1.138964608248987
         },
         {
          "x": 363,
          "y": 1.138705182125369
         },
         {
          "x": 364,
          "y": 1.1384471144559152
         },
         {
          "x": 365,
          "y": 1.138190396882215
         },
         {
          "x": 366,
          "y": 1.137935021108353
         },
         {
          "x": 367,
          "y": 1.1376809789003306
         },
         {
          "x": 368,
          "y": 1.1374282620855038
         },
         {
          "x": 369,
          "y": 1.137176862552023
         },
         {
          "x": 370,
          "y": 1.1369267722482763
         },
         {
          "x": 371,
          "y": 1.1366779831823466
         },
         {
          "x": 372,
          "y": 1.1364304874214648
         },
         {
          "x": 373,
          "y": 1.136184277091481
         },
         {
          "x": 374,
          "y": 1.1359393443763253
         },
         {
          "x": 375,
          "y": 1.1356956815174928
         },
         {
          "x": 376,
          "y": 1.1354532808135203
         },
         {
          "x": 377,
          "y": 1.1352121346194732
         },
         {
          "x": 378,
          "y": 1.1349722353464429
         },
         {
          "x": 379,
          "y": 1.1347335754610397
         },
         {
          "x": 380,
          "y": 1.1344961474848982
         },
         {
          "x": 381,
          "y": 1.1342599439941898
         },
         {
          "x": 382,
          "y": 1.1340249576191321
         },
         {
          "x": 383,
          "y": 1.1337911810435106
         },
         {
          "x": 384,
          "y": 1.1335586070042056
         },
         {
          "x": 385,
          "y": 1.1333272282907176
         },
         {
          "x": 386,
          "y": 1.1330970377447054
         },
         {
          "x": 387,
          "y": 1.1328680282595245
         },
         {
          "x": 388,
          "y": 1.1326401927797736
         },
         {
          "x": 389,
          "y": 1.1324135243008397
         },
         {
          "x": 390,
          "y": 1.1321880158684587
         },
         {
          "x": 391,
          "y": 1.1319636605782677
         },
         {
          "x": 392,
          "y": 1.1317404515753753
         },
         {
          "x": 393,
          "y": 1.131518382053923
         },
         {
          "x": 394,
          "y": 1.1312974452566644
         },
         {
          "x": 395,
          "y": 1.1310776344745375
         },
         {
          "x": 396,
          "y": 1.130858943046249
         },
         {
          "x": 397,
          "y": 1.1306413643578601
         },
         {
          "x": 398,
          "y": 1.130424891842375
         },
         {
          "x": 399,
          "y": 1.1302095189793386
         },
         {
          "x": 400,
          "y": 1.129995239294433
         },
         {
          "x": 401,
          "y": 1.1297820463590813
         },
         {
          "x": 402,
          "y": 1.129569933790054
         },
         {
          "x": 403,
          "y": 1.1293588952490816
         },
         {
          "x": 404,
          "y": 1.129148924442469
         },
         {
          "x": 405,
          "y": 1.1289400151207143
         },
         {
          "x": 406,
          "y": 1.1287321610781318
         },
         {
          "x": 407,
          "y": 1.12852535615248
         },
         {
          "x": 408,
          "y": 1.1283195942245912
         },
         {
          "x": 409,
          "y": 1.128114869218006
         },
         {
          "x": 410,
          "y": 1.1279111750986137
         },
         {
          "x": 411,
          "y": 1.1277085058742917
         },
         {
          "x": 412,
          "y": 1.127506855594551
         },
         {
          "x": 413,
          "y": 1.127306218350188
         },
         {
          "x": 414,
          "y": 1.127106588272934
         },
         {
          "x": 415,
          "y": 1.1269079595351141
         },
         {
          "x": 416,
          "y": 1.1267103263493052
         },
         {
          "x": 417,
          "y": 1.126513682968
         },
         {
          "x": 418,
          "y": 1.1263180236832737
         },
         {
          "x": 419,
          "y": 1.126123342826452
         },
         {
          "x": 420,
          "y": 1.1259296347677876
         },
         {
          "x": 421,
          "y": 1.1257368939161336
         },
         {
          "x": 422,
          "y": 1.1255451147186242
         },
         {
          "x": 423,
          "y": 1.125354291660358
         },
         {
          "x": 424,
          "y": 1.1251644192640846
         },
         {
          "x": 425,
          "y": 1.1249754920898916
         },
         {
          "x": 426,
          "y": 1.1247875047348983
         },
         {
          "x": 427,
          "y": 1.1246004518329522
         },
         {
          "x": 428,
          "y": 1.1244143280543235
         },
         {
          "x": 429,
          "y": 1.1242291281054109
         },
         {
          "x": 430,
          "y": 1.1240448467284418
         },
         {
          "x": 431,
          "y": 1.1238614787011836
         },
         {
          "x": 432,
          "y": 1.1236790188366483
         },
         {
          "x": 433,
          "y": 1.123497461982811
         },
         {
          "x": 434,
          "y": 1.123316803022321
         },
         {
          "x": 435,
          "y": 1.1231370368722238
         },
         {
          "x": 436,
          "y": 1.1229581584836779
         },
         {
          "x": 437,
          "y": 1.1227801628416838
         },
         {
          "x": 438,
          "y": 1.1226030449648075
         },
         {
          "x": 439,
          "y": 1.1224267999049085
         },
         {
          "x": 440,
          "y": 1.1222514227468752
         },
         {
          "x": 441,
          "y": 1.1220769086083566
         },
         {
          "x": 442,
          "y": 1.1219032526395007
         },
         {
          "x": 443,
          "y": 1.121730450022691
         },
         {
          "x": 444,
          "y": 1.1215584959722944
         },
         {
          "x": 445,
          "y": 1.121387385734399
         },
         {
          "x": 446,
          "y": 1.1212171145865657
         },
         {
          "x": 447,
          "y": 1.1210476778375755
         },
         {
          "x": 448,
          "y": 1.1208790708271819
         },
         {
          "x": 449,
          "y": 1.1207112889258641
         },
         {
          "x": 450,
          "y": 1.1205443275345839
         },
         {
          "x": 451,
          "y": 1.1203781820845466
         },
         {
          "x": 452,
          "y": 1.120212848036958
         },
         {
          "x": 453,
          "y": 1.1200483208827903
         },
         {
          "x": 454,
          "y": 1.1198845961425463
         },
         {
          "x": 455,
          "y": 1.1197216693660297
         },
         {
          "x": 456,
          "y": 1.1195595361321116
         },
         {
          "x": 457,
          "y": 1.1193981920485052
         },
         {
          "x": 458,
          "y": 1.1192376327515379
         },
         {
          "x": 459,
          "y": 1.1190778539059296
         },
         {
          "x": 460,
          "y": 1.1189188512045705
         },
         {
          "x": 461,
          "y": 1.1187606203683
         },
         {
          "x": 462,
          "y": 1.1186031571456923
         },
         {
          "x": 463,
          "y": 1.1184464573128383
         },
         {
          "x": 464,
          "y": 1.1182905166731336
         },
         {
          "x": 465,
          "y": 1.1181353310570654
         },
         {
          "x": 466,
          "y": 1.1179808963220066
         },
         {
          "x": 467,
          "y": 1.117827208352003
         },
         {
          "x": 468,
          "y": 1.1176742630575731
         },
         {
          "x": 469,
          "y": 1.1175220563754995
         },
         {
          "x": 470,
          "y": 1.117370584268631
         },
         {
          "x": 471,
          "y": 1.11721984272568
         },
         {
          "x": 472,
          "y": 1.1170698277610258
         },
         {
          "x": 473,
          "y": 1.1169205354145164
         },
         {
          "x": 474,
          "y": 1.1167719617512772
         },
         {
          "x": 475,
          "y": 1.1166241028615127
         },
         {
          "x": 476,
          "y": 1.1164769548603233
         },
         {
          "x": 477,
          "y": 1.116330513887508
         },
         {
          "x": 478,
          "y": 1.1161847761073824
         },
         {
          "x": 479,
          "y": 1.1160397377085896
         },
         {
          "x": 480,
          "y": 1.1158953949039183
         },
         {
          "x": 481,
          "y": 1.115751743930118
         },
         {
          "x": 482,
          "y": 1.1156087810477202
         },
         {
          "x": 483,
          "y": 1.1154665025408579
         },
         {
          "x": 484,
          "y": 1.1153249047170877
         },
         {
          "x": 485,
          "y": 1.1151839839072153
         },
         {
          "x": 486,
          "y": 1.1150437364651198
         },
         {
          "x": 487,
          "y": 1.1149041587675796
         },
         {
          "x": 488,
          "y": 1.1147652472141052
         },
         {
          "x": 489,
          "y": 1.114626998226764
         },
         {
          "x": 490,
          "y": 1.1144894082500154
         },
         {
          "x": 491,
          "y": 1.114352473750544
         },
         {
          "x": 492,
          "y": 1.1142161912170918
         },
         {
          "x": 493,
          "y": 1.114080557160297
         },
         {
          "x": 494,
          "y": 1.11394556811253
         },
         {
          "x": 495,
          "y": 1.1138112206277335
         },
         {
          "x": 496,
          "y": 1.1136775112812616
         },
         {
          "x": 497,
          "y": 1.1135444366697227
         },
         {
          "x": 498,
          "y": 1.1134119934108218
         },
         {
          "x": 499,
          "y": 1.1132801781432067
         },
         {
          "x": 500,
          "y": 1.113148987526312
         },
         {
          "x": 501,
          "y": 1.1130184182402076
         },
         {
          "x": 502,
          "y": 1.1128884669854466
         },
         {
          "x": 503,
          "y": 1.112759130482917
         },
         {
          "x": 504,
          "y": 1.1126304054736895
         },
         {
          "x": 505,
          "y": 1.1125022887188751
         },
         {
          "x": 506,
          "y": 1.1123747769994738
         },
         {
          "x": 507,
          "y": 1.1122478671162332
         },
         {
          "x": 508,
          "y": 1.112121555889503
         },
         {
          "x": 509,
          "y": 1.1119958401590944
         },
         {
          "x": 510,
          "y": 1.111870716784137
         },
         {
          "x": 511,
          "y": 1.1117461826429393
         },
         {
          "x": 512,
          "y": 1.1116222346328513
         },
         {
          "x": 513,
          "y": 1.1114988696701267
         },
         {
          "x": 514,
          "y": 1.1113760846897835
         },
         {
          "x": 515,
          "y": 1.1112538766454745
         },
         {
          "x": 516,
          "y": 1.1111322425093468
         },
         {
          "x": 517,
          "y": 1.111011179271914
         },
         {
          "x": 518,
          "y": 1.1108906839419224
         },
         {
          "x": 519,
          "y": 1.11077075354622
         },
         {
          "x": 520,
          "y": 1.1106513851296274
         },
         {
          "x": 521,
          "y": 1.1105325757548103
         },
         {
          "x": 522,
          "y": 1.1104143225021506
         },
         {
          "x": 523,
          "y": 1.110296622469621
         },
         {
          "x": 524,
          "y": 1.1101794727726602
         },
         {
          "x": 525,
          "y": 1.110062870544048
         },
         {
          "x": 526,
          "y": 1.109946812933782
         },
         {
          "x": 527,
          "y": 1.1098312971089572
         },
         {
          "x": 528,
          "y": 1.109716320253643
         },
         {
          "x": 529,
          "y": 1.1096018795687645
         },
         {
          "x": 530,
          "y": 1.1094879722719826
         },
         {
          "x": 531,
          "y": 1.1093745955975773
         },
         {
          "x": 532,
          "y": 1.1092617467963286
         },
         {
          "x": 533,
          "y": 1.1091494231354029
         },
         {
          "x": 534,
          "y": 1.1090376218982363
         },
         {
          "x": 535,
          "y": 1.1089263403844205
         },
         {
          "x": 536,
          "y": 1.1088155759095915
         },
         {
          "x": 537,
          "y": 1.1087053258053143
         },
         {
          "x": 538,
          "y": 1.1085955874189743
         },
         {
          "x": 539,
          "y": 1.1084863581136657
         },
         {
          "x": 540,
          "y": 1.108377635268082
         },
         {
          "x": 541,
          "y": 1.1082694162764073
         },
         {
          "x": 542,
          "y": 1.1081616985482112
         },
         {
          "x": 543,
          "y": 1.108054479508337
         },
         {
          "x": 544,
          "y": 1.1079477565967997
         },
         {
          "x": 545,
          "y": 1.1078415272686806
         },
         {
          "x": 546,
          "y": 1.107735788994022
         },
         {
          "x": 547,
          "y": 1.1076305392577246
         },
         {
          "x": 548,
          "y": 1.1075257755594436
         },
         {
          "x": 549,
          "y": 1.1074214954134902
         },
         {
          "x": 550,
          "y": 1.1073176963487268
         },
         {
          "x": 551,
          "y": 1.1072143759084705
         },
         {
          "x": 552,
          "y": 1.1071115316503914
         },
         {
          "x": 553,
          "y": 1.1070091611464163
         },
         {
          "x": 554,
          "y": 1.1069072619826297
         },
         {
          "x": 555,
          "y": 1.106805831759177
         },
         {
          "x": 556,
          "y": 1.1067048680901688
         },
         {
          "x": 557,
          "y": 1.1066043686035862
         },
         {
          "x": 558,
          "y": 1.106504330941187
         },
         {
          "x": 559,
          "y": 1.1064047527584089
         },
         {
          "x": 560,
          "y": 1.1063056317242792
         },
         {
          "x": 561,
          "y": 1.1062069655213231
         },
         {
          "x": 562,
          "y": 1.10610875184547
         },
         {
          "x": 563,
          "y": 1.1060109884059637
         },
         {
          "x": 564,
          "y": 1.105913672925273
         },
         {
          "x": 565,
          "y": 1.1058168031390017
         },
         {
          "x": 566,
          "y": 1.105720376795801
         },
         {
          "x": 567,
          "y": 1.1056243916572797
         },
         {
          "x": 568,
          "y": 1.1055288454979197
         },
         {
          "x": 569,
          "y": 1.1054337361049864
         },
         {
          "x": 570,
          "y": 1.1053390612784453
         },
         {
          "x": 571,
          "y": 1.1052448188308763
         },
         {
          "x": 572,
          "y": 1.105151006587389
         },
         {
          "x": 573,
          "y": 1.1050576223855393
         },
         {
          "x": 574,
          "y": 1.1049646640752442
         },
         {
          "x": 575,
          "y": 1.1048721295187036
         },
         {
          "x": 576,
          "y": 1.1047800165903137
         },
         {
          "x": 577,
          "y": 1.10468832317659
         },
         {
          "x": 578,
          "y": 1.104597047176083
         },
         {
          "x": 579,
          "y": 1.1045061864993022
         },
         {
          "x": 580,
          "y": 1.1044157390686329
         },
         {
          "x": 581,
          "y": 1.10432570281826
         },
         {
          "x": 582,
          "y": 1.1042360756940899
         },
         {
          "x": 583,
          "y": 1.1041468556536709
         },
         {
          "x": 584,
          "y": 1.10405804066612
         },
         {
          "x": 585,
          "y": 1.1039696287120437
         },
         {
          "x": 586,
          "y": 1.1038816177834616
         },
         {
          "x": 587,
          "y": 1.1037940058837352
         },
         {
          "x": 588,
          "y": 1.1037067910274911
         },
         {
          "x": 589,
          "y": 1.1036199712405457
         },
         {
          "x": 590,
          "y": 1.1035335445598338
         },
         {
          "x": 591,
          "y": 1.1034475090333358
         },
         {
          "x": 592,
          "y": 1.1033618627200041
         },
         {
          "x": 593,
          "y": 1.1032766036896933
         },
         {
          "x": 594,
          "y": 1.1031917300230876
         },
         {
          "x": 595,
          "y": 1.1031072398116308
         },
         {
          "x": 596,
          "y": 1.1030231311574559
         },
         {
          "x": 597,
          "y": 1.1029394021733168
         },
         {
          "x": 598,
          "y": 1.1028560509825172
         },
         {
          "x": 599,
          "y": 1.1027730757188448
         },
         {
          "x": 600,
          "y": 1.1026904745265005
         },
         {
          "x": 601,
          "y": 1.1026082455600332
         },
         {
          "x": 602,
          "y": 1.1025263869842725
         },
         {
          "x": 603,
          "y": 1.1024448969742622
         },
         {
          "x": 604,
          "y": 1.1023637737151928
         },
         {
          "x": 605,
          "y": 1.1022830154023384
         },
         {
          "x": 606,
          "y": 1.1022026202409922
         },
         {
          "x": 607,
          "y": 1.1021225864463986
         },
         {
          "x": 608,
          "y": 1.1020429122436928
         },
         {
          "x": 609,
          "y": 1.1019635958678364
         },
         {
          "x": 610,
          "y": 1.1018846355635532
         },
         {
          "x": 611,
          "y": 1.101806029585268
         },
         {
          "x": 612,
          "y": 1.1017277761970456
         },
         {
          "x": 613,
          "y": 1.101649873672525
         },
         {
          "x": 614,
          "y": 1.1015723202948646
         },
         {
          "x": 615,
          "y": 1.1014951143566756
         },
         {
          "x": 616,
          "y": 1.1014182541599657
         },
         {
          "x": 617,
          "y": 1.1013417380160773
         },
         {
          "x": 618,
          "y": 1.10126556424563
         },
         {
          "x": 619,
          "y": 1.1011897311784595
         },
         {
          "x": 620,
          "y": 1.1011142371535618
         },
         {
          "x": 621,
          "y": 1.1010390805190324
         },
         {
          "x": 622,
          "y": 1.1009642596320117
         },
         {
          "x": 623,
          "y": 1.1008897728586247
         },
         {
          "x": 624,
          "y": 1.100815618573928
         },
         {
          "x": 625,
          "y": 1.10074179516185
         },
         {
          "x": 626,
          "y": 1.100668301015136
         },
         {
          "x": 627,
          "y": 1.1005951345352953
         },
         {
          "x": 628,
          "y": 1.1005222941325425
         },
         {
          "x": 629,
          "y": 1.1004497782257452
         },
         {
          "x": 630,
          "y": 1.100377585242369
         },
         {
          "x": 631,
          "y": 1.100305713618423
         },
         {
          "x": 632,
          "y": 1.1002341617984082
         },
         {
          "x": 633,
          "y": 1.1001629282352618
         },
         {
          "x": 634,
          "y": 1.1000920113903074
         },
         {
          "x": 635,
          "y": 1.1000214097332002
         },
         {
          "x": 636,
          "y": 1.0999511217418774
         },
         {
          "x": 637,
          "y": 1.099881145902504
         },
         {
          "x": 638,
          "y": 1.099811480709424
         },
         {
          "x": 639,
          "y": 1.099742124665109
         },
         {
          "x": 640,
          "y": 1.0996730762801068
         },
         {
          "x": 641,
          "y": 1.0996043340729922
         },
         {
          "x": 642,
          "y": 1.0995358965703166
         },
         {
          "x": 643,
          "y": 1.0994677623065607
         },
         {
          "x": 644,
          "y": 1.0993999298240829
         },
         {
          "x": 645,
          "y": 1.0993323976730716
         },
         {
          "x": 646,
          "y": 1.0992651644114977
         },
         {
          "x": 647,
          "y": 1.0991982286050659
         },
         {
          "x": 648,
          "y": 1.0991315888271669
         },
         {
          "x": 649,
          "y": 1.0990652436588315
         },
         {
          "x": 650,
          "y": 1.0989991916886817
         },
         {
          "x": 651,
          "y": 1.098933431512886
         },
         {
          "x": 652,
          "y": 1.0988679617351114
         },
         {
          "x": 653,
          "y": 1.098802780966479
         },
         {
          "x": 654,
          "y": 1.098737887825518
         },
         {
          "x": 655,
          "y": 1.0986732809381197
         },
         {
          "x": 656,
          "y": 1.098608958937494
         },
         {
          "x": 657,
          "y": 1.0985449204641229
         },
         {
          "x": 658,
          "y": 1.098481164165718
         },
         {
          "x": 659,
          "y": 1.098417688697175
         },
         {
          "x": 660,
          "y": 1.0983544927205313
         },
         {
          "x": 661,
          "y": 1.0982915749049222
         },
         {
          "x": 662,
          "y": 1.0982289339265365
         },
         {
          "x": 663,
          "y": 1.098166568468577
         },
         {
          "x": 664,
          "y": 1.0981044772212138
         },
         {
          "x": 665,
          "y": 1.098042658881546
         },
         {
          "x": 666,
          "y": 1.0979811121535574
         },
         {
          "x": 667,
          "y": 1.097919835748076
         },
         {
          "x": 668,
          "y": 1.0978588283827322
         },
         {
          "x": 669,
          "y": 1.0977980887819176
         },
         {
          "x": 670,
          "y": 1.097737615676745
         },
         {
          "x": 671,
          "y": 1.0976774078050093
         },
         {
          "x": 672,
          "y": 1.0976174639111438
         },
         {
          "x": 673,
          "y": 1.0975577827461818
         },
         {
          "x": 674,
          "y": 1.09749836306772
         },
         {
          "x": 675,
          "y": 1.0974392036398748
         },
         {
          "x": 676,
          "y": 1.0973803032332459
         },
         {
          "x": 677,
          "y": 1.0973216606248768
         },
         {
          "x": 678,
          "y": 1.0972632745982156
         },
         {
          "x": 679,
          "y": 1.0972051439430788
         },
         {
          "x": 680,
          "y": 1.0971472674556113
         },
         {
          "x": 681,
          "y": 1.0970896439382498
         },
         {
          "x": 682,
          "y": 1.0970322721996841
         },
         {
          "x": 683,
          "y": 1.0969751510548222
         },
         {
          "x": 684,
          "y": 1.0969182793247514
         },
         {
          "x": 685,
          "y": 1.0968616558367017
         },
         {
          "x": 686,
          "y": 1.0968052794240104
         },
         {
          "x": 687,
          "y": 1.0967491489260863
         },
         {
          "x": 688,
          "y": 1.096693263188371
         },
         {
          "x": 689,
          "y": 1.0966376210623072
         },
         {
          "x": 690,
          "y": 1.0965822214052996
         },
         {
          "x": 691,
          "y": 1.0965270630806825
         },
         {
          "x": 692,
          "y": 1.096472144957683
         },
         {
          "x": 693,
          "y": 1.0964174659113877
         },
         {
          "x": 694,
          "y": 1.096363024822706
         },
         {
          "x": 695,
          "y": 1.0963088205783387
         },
         {
          "x": 696,
          "y": 1.096254852070743
         },
         {
          "x": 697,
          "y": 1.096201118198097
         },
         {
          "x": 698,
          "y": 1.0961476178642677
         },
         {
          "x": 699,
          "y": 1.0960943499787787
         },
         {
          "x": 700,
          "y": 1.0960413134567757
         },
         {
          "x": 701,
          "y": 1.0959885072189919
         },
         {
          "x": 702,
          "y": 1.0959359301917198
         },
         {
          "x": 703,
          "y": 1.0958835813067747
         },
         {
          "x": 704,
          "y": 1.0958314595014644
         },
         {
          "x": 705,
          "y": 1.095779563718557
         },
         {
          "x": 706,
          "y": 1.0957278929062488
         },
         {
          "x": 707,
          "y": 1.0956764460181336
         },
         {
          "x": 708,
          "y": 1.0956252220131697
         },
         {
          "x": 709,
          "y": 1.0955742198556495
         },
         {
          "x": 710,
          "y": 1.09552343851517
         },
         {
          "x": 711,
          "y": 1.0954728769665991
         },
         {
          "x": 712,
          "y": 1.0954225341900488
         },
         {
          "x": 713,
          "y": 1.0953724091708419
         },
         {
          "x": 714,
          "y": 1.0953225008994822
         },
         {
          "x": 715,
          "y": 1.095272808371626
         },
         {
          "x": 716,
          "y": 1.095223330588052
         },
         {
          "x": 717,
          "y": 1.0951740665546306
         },
         {
          "x": 718,
          "y": 1.0951250152822956
         },
         {
          "x": 719,
          "y": 1.0950761757870149
         },
         {
          "x": 720,
          "y": 1.0950275470897617
         },
         {
          "x": 721,
          "y": 1.0949791282164856
         },
         {
          "x": 722,
          "y": 1.0949309181980829
         },
         {
          "x": 723,
          "y": 1.094882916070371
         },
         {
          "x": 724,
          "y": 1.0948351208740574
         },
         {
          "x": 725,
          "y": 1.094787531654713
         },
         {
          "x": 726,
          "y": 1.0947401474627452
         },
         {
          "x": 727,
          "y": 1.0946929673533674
         },
         {
          "x": 728,
          "y": 1.0946459903865744
         },
         {
          "x": 729,
          "y": 1.0945992156271147
         },
         {
          "x": 730,
          "y": 1.0945526421444605
         },
         {
          "x": 731,
          "y": 1.094506269012786
         },
         {
          "x": 732,
          "y": 1.0944600953109362
         },
         {
          "x": 733,
          "y": 1.0944141201224016
         },
         {
          "x": 734,
          "y": 1.094368342535293
         },
         {
          "x": 735,
          "y": 1.094322761642314
         },
         {
          "x": 736,
          "y": 1.0942773765407343
         },
         {
          "x": 737,
          "y": 1.0942321863323672
         },
         {
          "x": 738,
          "y": 1.0941871901235394
         },
         {
          "x": 739,
          "y": 1.0941423870250682
         },
         {
          "x": 740,
          "y": 1.0940977761522361
         },
         {
          "x": 741,
          "y": 1.0940533566247648
         },
         {
          "x": 742,
          "y": 1.09400912756679
         },
         {
          "x": 743,
          "y": 1.0939650881068372
         },
         {
          "x": 744,
          "y": 1.0939212373777967
         },
         {
          "x": 745,
          "y": 1.0938775745168985
         },
         {
          "x": 746,
          "y": 1.0938340986656891
         },
         {
          "x": 747,
          "y": 1.093790808970006
         },
         {
          "x": 748,
          "y": 1.0937477045799544
         },
         {
          "x": 749,
          "y": 1.0937047846498833
         },
         {
          "x": 750,
          "y": 1.093662048338361
         },
         {
          "x": 751,
          "y": 1.0936194948081521
         },
         {
          "x": 752,
          "y": 1.093577123226193
         },
         {
          "x": 753,
          "y": 1.0935349327635708
         },
         {
          "x": 754,
          "y": 1.093492922595498
         },
         {
          "x": 755,
          "y": 1.0934510919012892
         },
         {
          "x": 756,
          "y": 1.0934094398643417
         },
         {
          "x": 757,
          "y": 1.0933679656721074
         },
         {
          "x": 758,
          "y": 1.093326668516075
         },
         {
          "x": 759,
          "y": 1.0932855475917451
         },
         {
          "x": 760,
          "y": 1.0932446020986069
         },
         {
          "x": 761,
          "y": 1.0932038312401202
         },
         {
          "x": 762,
          "y": 1.093163234223689
         },
         {
          "x": 763,
          "y": 1.0931228102606407
         },
         {
          "x": 764,
          "y": 1.0930825585662074
         },
         {
          "x": 765,
          "y": 1.0930424783594996
         },
         {
          "x": 766,
          "y": 1.0930025688634872
         },
         {
          "x": 767,
          "y": 1.0929628293049791
         },
         {
          "x": 768,
          "y": 1.0929232589146
         },
         {
          "x": 769,
          "y": 1.09288385692677
         },
         {
          "x": 770,
          "y": 1.0928446225796848
         },
         {
          "x": 771,
          "y": 1.0928055551152926
         },
         {
          "x": 772,
          "y": 1.0927666537792764
         },
         {
          "x": 773,
          "y": 1.0927279178210296
         },
         {
          "x": 774,
          "y": 1.0926893464936394
         },
         {
          "x": 775,
          "y": 1.092650939053865
         },
         {
          "x": 776,
          "y": 1.092612694762116
         },
         {
          "x": 777,
          "y": 1.0925746128824354
         },
         {
          "x": 778,
          "y": 1.0925366926824769
         },
         {
          "x": 779,
          "y": 1.0924989334334863
         },
         {
          "x": 780,
          "y": 1.0924613344102816
         },
         {
          "x": 781,
          "y": 1.0924238948912346
         },
         {
          "x": 782,
          "y": 1.0923866141582494
         },
         {
          "x": 783,
          "y": 1.0923494914967447
         },
         {
          "x": 784,
          "y": 1.0923125261956335
         },
         {
          "x": 785,
          "y": 1.0922757175473061
         },
         {
          "x": 786,
          "y": 1.092239064847608
         },
         {
          "x": 787,
          "y": 1.092202567395824
         },
         {
          "x": 788,
          "y": 1.0921662244946586
         },
         {
          "x": 789,
          "y": 1.0921300354502146
         },
         {
          "x": 790,
          "y": 1.09209399957198
         },
         {
          "x": 791,
          "y": 1.0920581161728065
         },
         {
          "x": 792,
          "y": 1.0920223845688892
         },
         {
          "x": 793,
          "y": 1.0919868040797533
         },
         {
          "x": 794,
          "y": 1.0919513740282327
         },
         {
          "x": 795,
          "y": 1.091916093740452
         },
         {
          "x": 796,
          "y": 1.091880962545811
         },
         {
          "x": 797,
          "y": 1.0918459797769653
         },
         {
          "x": 798,
          "y": 1.091811144769809
         },
         {
          "x": 799,
          "y": 1.0917764568634565
         },
         {
          "x": 800,
          "y": 1.0917419154002272
         },
         {
          "x": 801,
          "y": 1.091707519725627
         },
         {
          "x": 802,
          "y": 1.0916732691883302
         },
         {
          "x": 803,
          "y": 1.0916391631401632
         },
         {
          "x": 804,
          "y": 1.0916052009360884
         },
         {
          "x": 805,
          "y": 1.0915713819341872
         },
         {
          "x": 806,
          "y": 1.0915377054956412
         },
         {
          "x": 807,
          "y": 1.091504170984718
         },
         {
          "x": 808,
          "y": 1.0914707777687542
         },
         {
          "x": 809,
          "y": 1.0914375252181376
         },
         {
          "x": 810,
          "y": 1.091404412706292
         },
         {
          "x": 811,
          "y": 1.0913714396096617
         },
         {
          "x": 812,
          "y": 1.0913386053076921
         },
         {
          "x": 813,
          "y": 1.0913059091828186
         },
         {
          "x": 814,
          "y": 1.0912733506204464
         },
         {
          "x": 815,
          "y": 1.0912409290089367
         },
         {
          "x": 816,
          "y": 1.0912086437395905
         },
         {
          "x": 817,
          "y": 1.0911764942066322
         },
         {
          "x": 818,
          "y": 1.0911444798071963
         },
         {
          "x": 819,
          "y": 1.091112599941309
         },
         {
          "x": 820,
          "y": 1.0910808540118748
         },
         {
          "x": 821,
          "y": 1.091049241424661
         },
         {
          "x": 822,
          "y": 1.091017761588281
         },
         {
          "x": 823,
          "y": 1.0909864139141818
         },
         {
          "x": 824,
          "y": 1.0909551978166265
         },
         {
          "x": 825,
          "y": 1.0909241127126807
         },
         {
          "x": 826,
          "y": 1.090893158022197
         },
         {
          "x": 827,
          "y": 1.0908623331678013
         },
         {
          "x": 828,
          "y": 1.090831637574877
         },
         {
          "x": 829,
          "y": 1.0908010706715516
         },
         {
          "x": 830,
          "y": 1.09077063188868
         },
         {
          "x": 831,
          "y": 1.0907403206598334
         },
         {
          "x": 832,
          "y": 1.0907101364212823
         },
         {
          "x": 833,
          "y": 1.0906800786119826
         },
         {
          "x": 834,
          "y": 1.0906501466735639
         },
         {
          "x": 835,
          "y": 1.0906203400503114
         },
         {
          "x": 836,
          "y": 1.0905906581891558
         },
         {
          "x": 837,
          "y": 1.0905611005396563
         },
         {
          "x": 838,
          "y": 1.0905316665539904
         },
         {
          "x": 839,
          "y": 1.090502355686936
         },
         {
          "x": 840,
          "y": 1.0904731673958594
         },
         {
          "x": 841,
          "y": 1.0904441011407044
         },
         {
          "x": 842,
          "y": 1.090415156383975
         },
         {
          "x": 843,
          "y": 1.0903863325907233
         },
         {
          "x": 844,
          "y": 1.0903576292285366
         },
         {
          "x": 845,
          "y": 1.0903290457675248
         },
         {
          "x": 846,
          "y": 1.0903005816803046
         },
         {
          "x": 847,
          "y": 1.0902722364419912
         },
         {
          "x": 848,
          "y": 1.0902440095301784
         },
         {
          "x": 849,
          "y": 1.0902159004249325
         },
         {
          "x": 850,
          "y": 1.0901879086087747
         },
         {
          "x": 851,
          "y": 1.090160033566672
         },
         {
          "x": 852,
          "y": 1.0901322747860198
         },
         {
          "x": 853,
          "y": 1.0901046317566345
         },
         {
          "x": 854,
          "y": 1.0900771039707373
         },
         {
          "x": 855,
          "y": 1.0900496909229436
         },
         {
          "x": 856,
          "y": 1.090022392110249
         },
         {
          "x": 857,
          "y": 1.0899952070320178
         },
         {
          "x": 858,
          "y": 1.0899681351899717
         },
         {
          "x": 859,
          "y": 1.0899411760881759
         },
         {
          "x": 860,
          "y": 1.0899143292330282
         },
         {
          "x": 861,
          "y": 1.0898875941332458
         },
         {
          "x": 862,
          "y": 1.0898609702998547
         },
         {
          "x": 863,
          "y": 1.0898344572461758
         },
         {
          "x": 864,
          "y": 1.089808054487816
         },
         {
          "x": 865,
          "y": 1.089781761542654
         },
         {
          "x": 866,
          "y": 1.0897555779308286
         },
         {
          "x": 867,
          "y": 1.0897295031747283
         },
         {
          "x": 868,
          "y": 1.0897035367989794
         },
         {
          "x": 869,
          "y": 1.089677678330434
         },
         {
          "x": 870,
          "y": 1.0896519272981593
         },
         {
          "x": 871,
          "y": 1.0896262832334245
         },
         {
          "x": 872,
          "y": 1.089600745669692
         },
         {
          "x": 873,
          "y": 1.0895753141426043
         },
         {
          "x": 874,
          "y": 1.0895499881899733
         },
         {
          "x": 875,
          "y": 1.0895247673517698
         },
         {
          "x": 876,
          "y": 1.089499651170112
         },
         {
          "x": 877,
          "y": 1.0894746391892531
         },
         {
          "x": 878,
          "y": 1.0894497309555728
         },
         {
          "x": 879,
          "y": 1.0894249260175655
         },
         {
          "x": 880,
          "y": 1.0894002239258285
         },
         {
          "x": 881,
          "y": 1.089375624233053
         },
         {
          "x": 882,
          "y": 1.0893511264940114
         },
         {
          "x": 883,
          "y": 1.0893267302655492
         },
         {
          "x": 884,
          "y": 1.089302435106572
         },
         {
          "x": 885,
          "y": 1.0892782405780357
         },
         {
          "x": 886,
          "y": 1.0892541462429375
         },
         {
          "x": 887,
          "y": 1.0892301516663037
         },
         {
          "x": 888,
          "y": 1.0892062564151799
         },
         {
          "x": 889,
          "y": 1.0891824600586217
         },
         {
          "x": 890,
          "y": 1.0891587621676837
         },
         {
          "x": 891,
          "y": 1.0891351623154082
         },
         {
          "x": 892,
          "y": 1.0891116600768167
         },
         {
          "x": 893,
          "y": 1.089088255028901
         },
         {
          "x": 894,
          "y": 1.0890649467506093
         },
         {
          "x": 895,
          "y": 1.0890417348228403
         },
         {
          "x": 896,
          "y": 1.089018618828431
         },
         {
          "x": 897,
          "y": 1.088995598352148
         },
         {
          "x": 898,
          "y": 1.088972672980678
         },
         {
          "x": 899,
          "y": 1.088949842302615
         },
         {
          "x": 900,
          "y": 1.0889271059084553
         },
         {
          "x": 901,
          "y": 1.088904463390586
         },
         {
          "x": 902,
          "y": 1.0888819143432733
         },
         {
          "x": 903,
          "y": 1.088859458362656
         },
         {
          "x": 904,
          "y": 1.0888370950467356
         },
         {
          "x": 905,
          "y": 1.0888148239953652
         },
         {
          "x": 906,
          "y": 1.0887926448102418
         },
         {
          "x": 907,
          "y": 1.0887705570948962
         },
         {
          "x": 908,
          "y": 1.0887485604546847
         },
         {
          "x": 909,
          "y": 1.0887266544967789
         },
         {
          "x": 910,
          "y": 1.088704838830157
         },
         {
          "x": 911,
          "y": 1.0886831130655954
         },
         {
          "x": 912,
          "y": 1.0886614768156577
         },
         {
          "x": 913,
          "y": 1.0886399296946887
         },
         {
          "x": 914,
          "y": 1.088618471318803
         },
         {
          "x": 915,
          "y": 1.088597101305877
         },
         {
          "x": 916,
          "y": 1.0885758192755404
         },
         {
          "x": 917,
          "y": 1.0885546248491673
         },
         {
          "x": 918,
          "y": 1.0885335176498665
         },
         {
          "x": 919,
          "y": 1.0885124973024753
         },
         {
          "x": 920,
          "y": 1.0884915634335468
         },
         {
          "x": 921,
          "y": 1.0884707156713462
         },
         {
          "x": 922,
          "y": 1.0884499536458394
         },
         {
          "x": 923,
          "y": 1.0884292769886832
         },
         {
          "x": 924,
          "y": 1.0884086853332207
         },
         {
          "x": 925,
          "y": 1.0883881783144698
         },
         {
          "x": 926,
          "y": 1.0883677555691162
         },
         {
          "x": 927,
          "y": 1.0883474167355056
         },
         {
          "x": 928,
          "y": 1.0883271614536336
         },
         {
          "x": 929,
          "y": 1.088306989365139
         },
         {
          "x": 930,
          "y": 1.0882869001132955
         },
         {
          "x": 931,
          "y": 1.0882668933430035
         },
         {
          "x": 932,
          "y": 1.0882469687007803
         },
         {
          "x": 933,
          "y": 1.0882271258347564
         },
         {
          "x": 934,
          "y": 1.088207364394663
         },
         {
          "x": 935,
          "y": 1.0881876840318268
         },
         {
          "x": 936,
          "y": 1.0881680843991595
         },
         {
          "x": 937,
          "y": 1.0881485651511533
         },
         {
          "x": 938,
          "y": 1.0881291259438717
         },
         {
          "x": 939,
          "y": 1.0881097664349402
         },
         {
          "x": 940,
          "y": 1.0880904862835399
         },
         {
          "x": 941,
          "y": 1.0880712851504013
         },
         {
          "x": 942,
          "y": 1.0880521626977933
         },
         {
          "x": 943,
          "y": 1.0880331185895191
         },
         {
          "x": 944,
          "y": 1.0880141524909062
         },
         {
          "x": 945,
          "y": 1.0879952640687998
         },
         {
          "x": 946,
          "y": 1.087976452991555
         },
         {
          "x": 947,
          "y": 1.0879577189290304
         },
         {
          "x": 948,
          "y": 1.0879390615525795
         },
         {
          "x": 949,
          "y": 1.0879204805350438
         },
         {
          "x": 950,
          "y": 1.0879019755507449
         },
         {
          "x": 951,
          "y": 1.0878835462754803
         },
         {
          "x": 952,
          "y": 1.0878651923865101
         },
         {
          "x": 953,
          "y": 1.0878469135625557
         },
         {
          "x": 954,
          "y": 1.0878287094837908
         },
         {
          "x": 955,
          "y": 1.0878105798318318
         },
         {
          "x": 956,
          "y": 1.0877925242897353
         },
         {
          "x": 957,
          "y": 1.087774542541986
         },
         {
          "x": 958,
          "y": 1.0877566342744944
         },
         {
          "x": 959,
          "y": 1.0877387991745875
         },
         {
          "x": 960,
          "y": 1.0877210369310004
         },
         {
          "x": 961,
          "y": 1.0877033472338729
         },
         {
          "x": 962,
          "y": 1.0876857297747393
         },
         {
          "x": 963,
          "y": 1.087668184246526
         },
         {
          "x": 964,
          "y": 1.0876507103435389
         },
         {
          "x": 965,
          "y": 1.0876333077614606
         },
         {
          "x": 966,
          "y": 1.0876159761973436
         },
         {
          "x": 967,
          "y": 1.0875987153496025
         },
         {
          "x": 968,
          "y": 1.087581524918007
         },
         {
          "x": 969,
          "y": 1.087564404603677
         },
         {
          "x": 970,
          "y": 1.0875473541090737
         },
         {
          "x": 971,
          "y": 1.087530373137996
         },
         {
          "x": 972,
          "y": 1.0875134613955715
         },
         {
          "x": 973,
          "y": 1.087496618588251
         },
         {
          "x": 974,
          "y": 1.0874798444238032
         },
         {
          "x": 975,
          "y": 1.0874631386113052
         },
         {
          "x": 976,
          "y": 1.08744650086114
         },
         {
          "x": 977,
          "y": 1.0874299308849875
         },
         {
          "x": 978,
          "y": 1.0874134283958192
         },
         {
          "x": 979,
          "y": 1.087396993107892
         },
         {
          "x": 980,
          "y": 1.087380624736741
         },
         {
          "x": 981,
          "y": 1.0873643229991758
         },
         {
          "x": 982,
          "y": 1.087348087613271
         },
         {
          "x": 983,
          "y": 1.0873319182983627
         },
         {
          "x": 984,
          "y": 1.0873158147750417
         },
         {
          "x": 985,
          "y": 1.0872997767651458
         },
         {
          "x": 986,
          "y": 1.087283803991757
         },
         {
          "x": 987,
          "y": 1.087267896179193
         },
         {
          "x": 988,
          "y": 1.0872520530530017
         },
         {
          "x": 989,
          "y": 1.0872362743399562
         },
         {
          "x": 990,
          "y": 1.0872205597680475
         },
         {
          "x": 991,
          "y": 1.0872049090664804
         },
         {
          "x": 992,
          "y": 1.0871893219656654
         },
         {
          "x": 993,
          "y": 1.0871737981972163
         },
         {
          "x": 994,
          "y": 1.08715833749394
         },
         {
          "x": 995,
          "y": 1.087142939589834
         },
         {
          "x": 996,
          "y": 1.087127604220081
         },
         {
          "x": 997,
          "y": 1.087112331121039
         },
         {
          "x": 998,
          "y": 1.087097120030243
         },
         {
          "x": 999,
          "y": 1.0870819706863912
         },
         {
          "x": 1000,
          "y": 1.0870668828293453
         }
        ]
       },
       "encoding": {
        "x": {
         "field": "x",
         "title": null,
         "type": "quantitative"
        },
        "y": {
         "field": "y",
         "title": null,
         "type": "quantitative"
        }
       },
       "mark": "line",
       "title": "Loss",
       "width": 800
      },
      "image/png": "[encoded data removed]",
      "image/svg+xml": [
       "<svg xmlns=\"http://www.w3.org/2000/svg\" xmlns:xlink=\"http://www.w3.org/1999/xlink\" version=\"1.1\" class=\"marks\" width=\"833\" height=\"244\" viewBox=\"0 0 833 244\"><rect width=\"833\" height=\"244\" fill=\"white\"/><g fill=\"none\" stroke-miterlimit=\"10\" transform=\"translate(26,22)\"><g class=\"mark-group role-frame root\" role=\"graphics-object\" aria-roledescription=\"group mark container\"><g transform=\"translate(0,0)\"><path class=\"background\" aria-hidden=\"true\" d=\"M0.5,0.5h800v200h-800Z\" stroke=\"#ddd\"/><g><g class=\"mark-group role-axis\" aria-hidden=\"true\"><g transform=\"translate(0.5,200.5)\"><path class=\"background\" aria-hidden=\"true\" d=\"M0,0h0v0h0Z\" pointer-events=\"none\"/><g><g class=\"mark-rule role-axis-grid\" pointer-events=\"none\"><line transform=\"translate(0,-200)\" x2=\"0\" y2=\"200\" stroke=\"#ddd\" stroke-width=\"1\" opacity=\"1\"/><line transform=\"translate(40,-200)\" x2=\"0\" y2=\"200\" stroke=\"#ddd\" stroke-width=\"1\" opacity=\"1\"/><line transform=\"translate(80,-200)\" x2=\"0\" y2=\"200\" stroke=\"#ddd\" stroke-width=\"1\" opacity=\"1\"/><line transform=\"translate(120,-200)\" x2=\"0\" y2=\"200\" stroke=\"#ddd\" stroke-width=\"1\" opacity=\"1\"/><line transform=\"translate(160,-200)\" x2=\"0\" y2=\"200\" stroke=\"#ddd\" stroke-width=\"1\" opacity=\"1\"/><line transform=\"translate(200,-200)\" x2=\"0\" y2=\"200\" stroke=\"#ddd\" stroke-width=\"1\" opacity=\"1\"/><line transform=\"translate(240,-200)\" x2=\"0\" y2=\"200\" stroke=\"#ddd\" stroke-width=\"1\" opacity=\"1\"/><line transform=\"translate(280,-200)\" x2=\"0\" y2=\"200\" stroke=\"#ddd\" stroke-width=\"1\" opacity=\"1\"/><line transform=\"translate(320,-200)\" x2=\"0\" y2=\"200\" stroke=\"#ddd\" stroke-width=\"1\" opacity=\"1\"/><line transform=\"translate(360,-200)\" x2=\"0\" y2=\"200\" stroke=\"#ddd\" stroke-width=\"1\" opacity=\"1\"/><line transform=\"translate(400,-200)\" x2=\"0\" y2=\"200\" stroke=\"#ddd\" stroke-width=\"1\" opacity=\"1\"/><line transform=\"translate(440,-200)\" x2=\"0\" y2=\"200\" stroke=\"#ddd\" stroke-width=\"1\" opacity=\"1\"/><line transform=\"translate(480,-200)\" x2=\"0\" y2=\"200\" stroke=\"#ddd\" stroke-width=\"1\" opacity=\"1\"/><line transform=\"translate(520,-200)\" x2=\"0\" y2=\"200\" stroke=\"#ddd\" stroke-width=\"1\" opacity=\"1\"/><line transform=\"translate(560,-200)\" x2=\"0\" y2=\"200\" stroke=\"#ddd\" stroke-width=\"1\" opacity=\"1\"/><line transform=\"translate(600,-200)\" x2=\"0\" y2=\"200\" stroke=\"#ddd\" stroke-width=\"1\" opacity=\"1\"/><line transform=\"translate(640,-200)\" x2=\"0\" y2=\"200\" stroke=\"#ddd\" stroke-width=\"1\" opacity=\"1\"/><line transform=\"translate(680,-200)\" x2=\"0\" y2=\"200\" stroke=\"#ddd\" stroke-width=\"1\" opacity=\"1\"/><line transform=\"translate(720,-200)\" x2=\"0\" y2=\"200\" stroke=\"#ddd\" stroke-width=\"1\" opacity=\"1\"/><line transform=\"translate(760,-200)\" x2=\"0\" y2=\"200\" stroke=\"#ddd\" stroke-width=\"1\" opacity=\"1\"/><line transform=\"translate(800,-200)\" x2=\"0\" y2=\"200\" stroke=\"#ddd\" stroke-width=\"1\" opacity=\"1\"/></g></g><path class=\"foreground\" aria-hidden=\"true\" d=\"\" pointer-events=\"none\" display=\"none\"/></g></g><g class=\"mark-group role-axis\" aria-hidden=\"true\"><g transform=\"translate(0.5,0.5)\"><path class=\"background\" aria-hidden=\"true\" d=\"M0,0h0v0h0Z\" pointer-events=\"none\"/><g><g class=\"mark-rule role-axis-grid\" pointer-events=\"none\"><line transform=\"translate(0,200)\" x2=\"800\" y2=\"0\" stroke=\"#ddd\" stroke-width=\"1\" opacity=\"1\"/><line transform=\"translate(0,144)\" x2=\"800\" y2=\"0\" stroke=\"#ddd\" stroke-width=\"1\" opacity=\"1\"/><line transform=\"translate(0,89)\" x2=\"800\" y2=\"0\" stroke=\"#ddd\" stroke-width=\"1\" opacity=\"1\"/><line transform=\"translate(0,33)\" x2=\"800\" y2=\"0\" stroke=\"#ddd\" stroke-width=\"1\" opacity=\"1\"/></g></g><path class=\"foreground\" aria-hidden=\"true\" d=\"\" pointer-events=\"none\" display=\"none\"/></g></g><g class=\"mark-group role-axis\" role=\"graphics-symbol\" aria-roledescription=\"axis\" aria-label=\"X-axis for a linear scale with values from 0 to 1,000\"><g transform=\"translate(0.5,200.5)\"><path class=\"background\" aria-hidden=\"true\" d=\"M0,0h0v0h0Z\" pointer-events=\"none\"/><g><g class=\"mark-rule role-axis-tick\" pointer-events=\"none\"><line transform=\"translate(0,0)\" x2=\"0\" y2=\"5\" stroke=\"#888\" stroke-width=\"1\" opacity=\"1\"/><line transform=\"translate(40,0)\" x2=\"0\" y2=\"5\" stroke=\"#888\" stroke-width=\"1\" opacity=\"1\"/><line transform=\"translate(80,0)\" x2=\"0\" y2=\"5\" stroke=\"#888\" stroke-width=\"1\" opacity=\"1\"/><line transform=\"translate(120,0)\" x2=\"0\" y2=\"5\" stroke=\"#888\" stroke-width=\"1\" opacity=\"1\"/><line transform=\"translate(160,0)\" x2=\"0\" y2=\"5\" stroke=\"#888\" stroke-width=\"1\" opacity=\"1\"/><line transform=\"translate(200,0)\" x2=\"0\" y2=\"5\" stroke=\"#888\" stroke-width=\"1\" opacity=\"1\"/><line transform=\"translate(240,0)\" x2=\"0\" y2=\"5\" stroke=\"#888\" stroke-width=\"1\" opacity=\"1\"/><line transform=\"translate(280,0)\" x2=\"0\" y2=\"5\" stroke=\"#888\" stroke-width=\"1\" opacity=\"1\"/><line transform=\"translate(320,0)\" x2=\"0\" y2=\"5\" stroke=\"#888\" stroke-width=\"1\" opacity=\"1\"/><line transform=\"translate(360,0)\" x2=\"0\" y2=\"5\" stroke=\"#888\" stroke-width=\"1\" opacity=\"1\"/><line transform=\"translate(400,0)\" x2=\"0\" y2=\"5\" stroke=\"#888\" stroke-width=\"1\" opacity=\"1\"/><line transform=\"translate(440,0)\" x2=\"0\" y2=\"5\" stroke=\"#888\" stroke-width=\"1\" opacity=\"1\"/><line transform=\"translate(480,0)\" x2=\"0\" y2=\"5\" stroke=\"#888\" stroke-width=\"1\" opacity=\"1\"/><line transform=\"translate(520,0)\" x2=\"0\" y2=\"5\" stroke=\"#888\" stroke-width=\"1\" opacity=\"1\"/><line transform=\"translate(560,0)\" x2=\"0\" y2=\"5\" stroke=\"#888\" stroke-width=\"1\" opacity=\"1\"/><line transform=\"translate(600,0)\" x2=\"0\" y2=\"5\" stroke=\"#888\" stroke-width=\"1\" opacity=\"1\"/><line transform=\"translate(640,0)\" x2=\"0\" y2=\"5\" stroke=\"#888\" stroke-width=\"1\" opacity=\"1\"/><line transform=\"translate(680,0)\" x2=\"0\" y2=\"5\" stroke=\"#888\" stroke-width=\"1\" opacity=\"1\"/><line transform=\"translate(720,0)\" x2=\"0\" y2=\"5\" stroke=\"#888\" stroke-width=\"1\" opacity=\"1\"/><line transform=\"translate(760,0)\" x2=\"0\" y2=\"5\" stroke=\"#888\" stroke-width=\"1\" opacity=\"1\"/><line transform=\"translate(800,0)\" x2=\"0\" y2=\"5\" stroke=\"#888\" stroke-width=\"1\" opacity=\"1\"/></g><g class=\"mark-text role-axis-label\" pointer-events=\"none\"><text text-anchor=\"start\" transform=\"translate(0,15)\" font-family=\"sans-serif\" font-size=\"10px\" fill=\"#000\" opacity=\"1\">0</text><text text-anchor=\"middle\" transform=\"translate(40,15)\" font-family=\"sans-serif\" font-size=\"10px\" fill=\"#000\" opacity=\"1\">50</text><text text-anchor=\"middle\" transform=\"translate(80,15)\" font-family=\"sans-serif\" font-size=\"10px\" fill=\"#000\" opacity=\"1\">100</text><text text-anchor=\"middle\" transform=\"translate(120,15)\" font-family=\"sans-serif\" font-size=\"10px\" fill=\"#000\" opacity=\"1\">150</text><text text-anchor=\"middle\" transform=\"translate(160,15)\" font-family=\"sans-serif\" font-size=\"10px\" fill=\"#000\" opacity=\"1\">200</text><text text-anchor=\"middle\" transform=\"translate(200,15)\" font-family=\"sans-serif\" font-size=\"10px\" fill=\"#000\" opacity=\"1\">250</text><text text-anchor=\"middle\" transform=\"translate(240,15)\" font-family=\"sans-serif\" font-size=\"10px\" fill=\"#000\" opacity=\"1\">300</text><text text-anchor=\"middle\" transform=\"translate(280,15)\" font-family=\"sans-serif\" font-size=\"10px\" fill=\"#000\" opacity=\"1\">350</text><text text-anchor=\"middle\" transform=\"translate(320,15)\" font-family=\"sans-serif\" font-size=\"10px\" fill=\"#000\" opacity=\"1\">400</text><text text-anchor=\"middle\" transform=\"translate(360,15)\" font-family=\"sans-serif\" font-size=\"10px\" fill=\"#000\" opacity=\"1\">450</text><text text-anchor=\"middle\" transform=\"translate(400,15)\" font-family=\"sans-serif\" font-size=\"10px\" fill=\"#000\" opacity=\"1\">500</text><text text-anchor=\"middle\" transform=\"translate(440.00000000000006,15)\" font-family=\"sans-serif\" font-size=\"10px\" fill=\"#000\" opacity=\"1\">550</text><text text-anchor=\"middle\" transform=\"translate(480,15)\" font-family=\"sans-serif\" font-size=\"10px\" fill=\"#000\" opacity=\"1\">600</text><text text-anchor=\"middle\" transform=\"translate(520,15)\" font-family=\"sans-serif\" font-size=\"10px\" fill=\"#000\" opacity=\"1\">650</text><text text-anchor=\"middle\" transform=\"translate(560,15)\" font-family=\"sans-serif\" font-size=\"10px\" fill=\"#000\" opacity=\"1\">700</text><text text-anchor=\"middle\" transform=\"translate(600,15)\" font-family=\"sans-serif\" font-size=\"10px\" fill=\"#000\" opacity=\"1\">750</text><text text-anchor=\"middle\" transform=\"translate(640,15)\" font-family=\"sans-serif\" font-size=\"10px\" fill=\"#000\" opacity=\"1\">800</text><text text-anchor=\"middle\" transform=\"translate(680,15)\" font-family=\"sans-serif\" font-size=\"10px\" fill=\"#000\" opacity=\"1\">850</text><text text-anchor=\"middle\" transform=\"translate(720,15)\" font-family=\"sans-serif\" font-size=\"10px\" fill=\"#000\" opacity=\"1\">900</text><text text-anchor=\"middle\" transform=\"translate(760,15)\" font-family=\"sans-serif\" font-size=\"10px\" fill=\"#000\" opacity=\"1\">950</text><text text-anchor=\"end\" transform=\"translate(800,15)\" font-family=\"sans-serif\" font-size=\"10px\" fill=\"#000\" opacity=\"1\">1,000</text></g><g class=\"mark-rule role-axis-domain\" pointer-events=\"none\"><line transform=\"translate(0,0)\" x2=\"800\" y2=\"0\" stroke=\"#888\" stroke-width=\"1\" opacity=\"1\"/></g></g><path class=\"foreground\" aria-hidden=\"true\" d=\"\" pointer-events=\"none\" display=\"none\"/></g></g><g class=\"mark-group role-axis\" role=\"graphics-symbol\" aria-roledescription=\"axis\" aria-label=\"Y-axis for a linear scale with values from 0.0 to 1.8\"><g transform=\"translate(0.5,0.5)\"><path class=\"background\" aria-hidden=\"true\" d=\"M0,0h0v0h0Z\" pointer-events=\"none\"/><g><g class=\"mark-rule role-axis-tick\" pointer-events=\"none\"><line transform=\"translate(0,200)\" x2=\"-5\" y2=\"0\" stroke=\"#888\" stroke-width=\"1\" opacity=\"1\"/><line transform=\"translate(0,144)\" x2=\"-5\" y2=\"0\" stroke=\"#888\" stroke-width=\"1\" opacity=\"1\"/><line transform=\"translate(0,89)\" x2=\"-5\" y2=\"0\" stroke=\"#888\" stroke-width=\"1\" opacity=\"1\"/><line transform=\"translate(0,33)\" x2=\"-5\" y2=\"0\" stroke=\"#888\" stroke-width=\"1\" opacity=\"1\"/></g><g class=\"mark-text role-axis-label\" pointer-events=\"none\"><text text-anchor=\"end\" transform=\"translate(-7,203)\" font-family=\"sans-serif\" font-size=\"10px\" fill=\"#000\" opacity=\"1\">0.0</text><text text-anchor=\"end\" transform=\"translate(-7,147.44444444444443)\" font-family=\"sans-serif\" font-size=\"10px\" fill=\"#000\" opacity=\"1\">0.5</text><text text-anchor=\"end\" transform=\"translate(-7,91.88888888888889)\" font-family=\"sans-serif\" font-size=\"10px\" fill=\"#000\" opacity=\"1\">1.0</text><text text-anchor=\"end\" transform=\"translate(-7,36.33333333333335)\" font-family=\"sans-serif\" font-size=\"10px\" fill=\"#000\" opacity=\"1\">1.5</text></g><g class=\"mark-rule role-axis-domain\" pointer-events=\"none\"><line transform=\"translate(0,200)\" x2=\"0\" y2=\"-200\" stroke=\"#888\" stroke-width=\"1\" opacity=\"1\"/></g></g><path class=\"foreground\" aria-hidden=\"true\" d=\"\" pointer-events=\"none\" display=\"none\"/></g></g><g class=\"mark-line role-mark marks\" role=\"graphics-object\" aria-roledescription=\"line mark container\"><path aria-label=\"x: 1; y: 1.78045873483\" role=\"graphics-symbol\" aria-roledescription=\"line mark\" d=\"M0.8,2.171L1.6,30.17L2.4,30.963L3.2,31.417L4,31.825L4.8,32.216L5.6,32.601L6.4,32.98L7.2,33.354L8,33.724L8.8,34.09L9.6,34.451L10.4,34.808L11.2,35.161L12,35.509L12.8,35.854L13.6,36.195L14.4,36.532L15.2,36.865L16,37.194L16.8,37.519L17.6,37.841L18.4,38.16L19.2,38.474L20,38.786L20.8,39.094L21.6,39.398L22.4,39.699L23.2,39.997L24,40.292L24.8,40.584L25.6,40.872L26.4,41.158L27.2,41.44L28,41.72L28.8,41.996L29.6,42.27L30.4,42.541L31.2,42.809L32,43.074L32.8,43.336L33.6,43.596L34.4,43.853L35.2,44.108L36,44.36L36.8,44.61L37.6,44.857L38.4,45.102L39.2,45.344L40,45.584L40.8,45.821L41.6,46.056L42.4,46.289L43.2,46.52L44,46.748L44.8,46.974L45.6,47.198L46.4,47.42L47.2,47.64L48,47.858L48.8,48.074L49.6,48.287L50.4,48.499L51.2,48.709L52,48.916L52.8,49.122L53.6,49.326L54.4,49.528L55.2,49.728L56,49.927L56.8,50.123L57.6,50.318L58.4,50.511L59.2,50.703L60,50.892L60.8,51.08L61.6,51.267L62.4,51.451L63.2,51.634L64,51.816L64.8,51.996L65.6,52.174L66.4,52.351L67.2,52.526L68,52.699L68.8,52.872L69.6,53.042L70.4,53.212L71.2,53.379L72,53.546L72.8,53.711L73.6,53.874L74.4,54.036L75.2,54.197L76,54.357L76.8,54.515L77.6,54.672L78.4,54.827L79.2,54.982L80,55.135L80.8,55.286L81.6,55.437L82.4,55.586L83.2,55.734L84,55.881L84.8,56.027L85.6,56.171L86.4,56.315L87.2,56.457L88,56.598L88.8,56.738L89.6,56.877L90.4,57.015L91.2,57.151L92,57.287L92.8,57.421L93.6,57.555L94.4,57.687L95.2,57.819L96,57.949L96.8,58.078L97.6,58.207L98.4,58.334L99.2,58.461L100,58.586L100.8,58.71L101.6,58.834L102.4,58.957L103.2,59.078L104,59.199L104.8,59.319L105.6,59.438L106.4,59.556L107.2,59.673L108,59.789L108.8,59.905L109.6,60.019L110.4,60.133L111.2,60.246L112,60.358L112.8,60.469L113.6,60.58L114.4,60.689L115.2,60.798L116,60.906L116.8,61.013L117.6,61.12L118.4,61.225L119.2,61.33L120,61.434L120.8,61.538L121.6,61.64L122.4,61.742L123.2,61.844L124,61.944L124.8,62.044L125.6,62.143L126.4,62.241L127.2,62.339L128,62.436L128.8,62.532L129.6,62.628L130.4,62.723L131.2,62.817L132,62.911L132.8,63.004L133.6,63.096L134.4,63.188L135.2,63.279L136,63.37L136.8,63.459L137.6,63.549L138.4,63.637L139.2,63.725L140,63.813L140.8,63.899L141.6,63.986L142.4,64.071L143.2,64.156L144,64.241L144.8,64.325L145.6,64.408L146.4,64.491L147.2,64.573L148,64.655L148.8,64.736L149.6,64.817L150.4,64.897L151.2,64.976L152,65.055L152.8,65.134L153.6,65.212L154.4,65.289L155.2,65.366L156,65.443L156.8,65.519L157.6,65.594L158.4,65.669L159.2,65.744L160,65.818L160.8,65.891L161.6,65.964L162.4,66.037L163.2,66.109L164,66.181L164.8,66.252L165.6,66.323L166.4,66.393L167.2,66.463L168,66.532L168.8,66.601L169.6,66.67L170.4,66.738L171.2,66.805L172,66.873L172.8,66.939L173.6,67.006L174.4,67.072L175.2,67.137L176,67.202L176.8,67.267L177.6,67.331L178.4,67.395L179.2,67.459L180,67.522L180.8,67.585L181.6,67.647L182.4,67.709L183.2,67.771L184,67.832L184.8,67.893L185.6,67.953L186.4,68.013L187.2,68.073L188,68.132L188.8,68.191L189.6,68.25L190.4,68.308L191.2,68.366L192,68.424L192.8,68.481L193.6,68.538L194.4,68.594L195.2,68.65L196,68.706L196.8,68.762L197.6,68.817L198.4,68.872L199.2,68.926L200,68.98L200.8,69.034L201.6,69.088L202.4,69.141L203.2,69.194L204,69.247L204.8,69.299L205.6,69.351L206.4,69.403L207.2,69.454L208,69.505L208.8,69.556L209.6,69.606L210.4,69.656L211.2,69.706L212,69.756L212.8,69.805L213.6,69.854L214.4,69.903L215.2,69.951L216,69.999L216.8,70.047L217.6,70.095L218.4,70.142L219.2,70.189L220,70.236L220.8,70.283L221.6,70.329L222.4,70.375L223.2,70.42L224,70.466L224.8,70.511L225.6,70.556L226.4,70.601L227.2,70.645L228,70.689L228.8,70.733L229.6,70.777L230.4,70.82L231.2,70.863L232,70.906L232.8,70.949L233.6,70.991L234.4,71.034L235.2,71.076L236,71.117L236.8,71.159L237.6,71.2L238.4,71.241L239.2,71.282L240,71.322L240.8,71.363L241.6,71.403L242.4,71.443L243.2,71.482L244,71.522L244.8,71.561L245.6,71.6L246.4,71.639L247.2,71.677L248,71.716L248.8,71.754L249.6,71.792L250.4,71.83L251.2,71.867L252,71.904L252.8,71.942L253.6,71.978L254.4,72.015L255.2,72.052L256,72.088L256.8,72.124L257.6,72.16L258.4,72.196L259.2,72.231L260,72.267L260.8,72.302L261.6,72.337L262.4,72.371L263.2,72.406L264,72.44L264.8,72.475L265.6,72.509L266.4,72.542L267.2,72.576L268,72.609L268.8,72.643L269.6,72.676L270.4,72.709L271.2,72.741L272,72.774L272.8,72.806L273.6,72.839L274.4,72.871L275.2,72.903L276,72.934L276.8,72.966L277.6,72.997L278.4,73.028L279.2,73.059L280,73.09L280.8,73.121L281.6,73.152L282.4,73.182L283.2,73.212L284,73.242L284.8,73.272L285.6,73.302L286.4,73.332L287.2,73.361L288,73.39L288.8,73.419L289.6,73.448L290.4,73.477L291.2,73.506L292,73.534L292.8,73.563L293.6,73.591L294.4,73.619L295.2,73.647L296,73.675L296.8,73.702L297.6,73.73L298.4,73.757L299.2,73.785L300,73.812L300.8,73.839L301.6,73.865L302.4,73.892L303.2,73.918L304,73.945L304.8,73.971L305.6,73.997L306.4,74.023L307.2,74.049L308,74.075L308.8,74.1L309.6,74.126L310.4,74.151L311.2,74.176L312,74.201L312.8,74.226L313.6,74.251L314.4,74.276L315.2,74.3L316,74.325L316.8,74.349L317.6,74.373L318.4,74.397L319.2,74.421L320,74.445L320.8,74.469L321.6,74.492L322.4,74.516L323.2,74.539L324,74.562L324.8,74.585L325.6,74.608L326.4,74.631L327.2,74.654L328,74.677L328.8,74.699L329.6,74.721L330.4,74.744L331.2,74.766L332,74.788L332.8,74.81L333.6,74.832L334.4,74.854L335.2,74.875L336,74.897L336.8,74.918L337.6,74.939L338.4,74.961L339.2,74.982L340,75.003L340.8,75.024L341.6,75.044L342.4,75.065L343.2,75.086L344,75.106L344.8,75.127L345.6,75.147L346.4,75.167L347.2,75.187L348,75.207L348.8,75.227L349.6,75.247L350.4,75.266L351.2,75.286L352,75.305L352.8,75.325L353.6,75.344L354.4,75.363L355.2,75.382L356,75.401L356.8,75.42L357.6,75.439L358.4,75.458L359.2,75.477L360,75.495L360.8,75.514L361.6,75.532L362.4,75.55L363.2,75.568L364,75.586L364.8,75.604L365.6,75.622L366.4,75.64L367.2,75.658L368,75.676L368.8,75.693L369.6,75.711L370.4,75.728L371.2,75.745L372,75.763L372.8,75.78L373.6,75.797L374.4,75.814L375.2,75.831L376,75.848L376.8,75.864L377.6,75.881L378.4,75.898L379.2,75.914L380,75.931L380.8,75.947L381.6,75.963L382.4,75.979L383.2,75.996L384,76.012L384.8,76.028L385.6,76.043L386.4,76.059L387.2,76.075L388,76.091L388.8,76.106L389.6,76.122L390.4,76.137L391.2,76.153L392,76.168L392.8,76.183L393.6,76.198L394.4,76.213L395.2,76.228L396,76.243L396.8,76.258L397.6,76.273L398.4,76.288L399.2,76.302L400,76.317L400.8,76.331L401.6,76.346L402.4,76.36L403.2,76.374L404,76.389L404.8,76.403L405.6,76.417L406.4,76.431L407.2,76.445L408,76.459L408.8,76.473L409.6,76.486L410.4,76.5L411.2,76.514L412,76.527L412.8,76.541L413.6,76.554L414.4,76.568L415.2,76.581L416,76.594L416.8,76.607L417.6,76.621L418.4,76.634L419.2,76.647L420,76.66L420.8,76.673L421.6,76.685L422.4,76.698L423.2,76.711L424,76.724L424.8,76.736L425.6,76.749L426.4,76.761L427.2,76.774L428,76.786L428.8,76.798L429.6,76.811L430.4,76.823L431.2,76.835L432,76.847L432.8,76.859L433.6,76.871L434.4,76.883L435.2,76.895L436,76.906L436.8,76.918L437.6,76.93L438.4,76.942L439.2,76.953L440,76.965L440.8,76.976L441.6,76.988L442.4,76.999L443.2,77.01L444,77.022L444.8,77.033L445.6,77.044L446.4,77.055L447.2,77.066L448,77.077L448.8,77.088L449.6,77.099L450.4,77.11L451.2,77.121L452,77.131L452.8,77.142L453.6,77.153L454.4,77.163L455.2,77.174L456,77.185L456.8,77.195L457.6,77.205L458.4,77.216L459.2,77.226L460,77.236L460.8,77.247L461.6,77.257L462.4,77.267L463.2,77.277L464,77.287L464.8,77.297L465.6,77.307L466.4,77.317L467.2,77.327L468,77.337L468.8,77.346L469.6,77.356L470.4,77.366L471.2,77.376L472,77.385L472.8,77.395L473.6,77.404L474.4,77.414L475.2,77.423L476,77.433L476.8,77.442L477.6,77.451L478.4,77.46L479.2,77.47L480,77.479L480.8,77.488L481.6,77.497L482.4,77.506L483.2,77.515L484,77.524L484.8,77.533L485.6,77.542L486.4,77.551L487.2,77.56L488,77.568L488.8,77.577L489.6,77.586L490.4,77.594L491.2,77.603L492,77.612L492.8,77.62L493.6,77.629L494.4,77.637L495.2,77.646L496,77.654L496.8,77.662L497.6,77.671L498.4,77.679L499.2,77.687L500,77.695L500.8,77.704L501.6,77.712L502.4,77.72L503.2,77.728L504,77.736L504.8,77.744L505.6,77.752L506.4,77.76L507.2,77.768L508,77.775L508.8,77.783L509.6,77.791L510.4,77.799L511.2,77.806L512,77.814L512.8,77.822L513.6,77.829L514.4,77.837L515.2,77.844L516,77.852L516.8,77.859L517.6,77.867L518.4,77.874L519.2,77.882L520,77.889L520.8,77.896L521.6,77.904L522.4,77.911L523.2,77.918L524,77.925L524.8,77.932L525.6,77.939L526.4,77.947L527.2,77.954L528,77.961L528.8,77.968L529.6,77.975L530.4,77.981L531.2,77.988L532,77.995L532.8,78.002L533.6,78.009L534.4,78.016L535.2,78.022L536,78.029L536.8,78.036L537.6,78.043L538.4,78.049L539.2,78.056L540,78.062L540.8,78.069L541.6,78.075L542.4,78.082L543.2,78.088L544,78.095L544.8,78.101L545.6,78.108L546.4,78.114L547.2,78.12L548,78.126L548.8,78.133L549.6,78.139L550.4,78.145L551.2,78.151L552,78.158L552.8,78.164L553.6,78.17L554.4,78.176L555.2,78.182L556,78.188L556.8,78.194L557.6,78.2L558.4,78.206L559.2,78.212L560,78.218L560.8,78.223L561.6,78.229L562.4,78.235L563.2,78.241L564,78.247L564.8,78.252L565.6,78.258L566.4,78.264L567.2,78.27L568,78.275L568.8,78.281L569.6,78.286L570.4,78.292L571.2,78.297L572,78.303L572.8,78.309L573.6,78.314L574.4,78.319L575.2,78.325L576,78.33L576.8,78.336L577.6,78.341L578.4,78.346L579.2,78.352L580,78.357L580.8,78.362L581.6,78.367L582.4,78.373L583.2,78.378L584,78.383L584.8,78.388L585.6,78.393L586.4,78.398L587.2,78.404L588,78.409L588.8,78.414L589.6,78.419L590.4,78.424L591.2,78.429L592,78.434L592.8,78.439L593.6,78.443L594.4,78.448L595.2,78.453L596,78.458L596.8,78.463L597.6,78.468L598.4,78.472L599.2,78.477L600,78.482L600.8,78.487L601.6,78.491L602.4,78.496L603.2,78.501L604,78.505L604.8,78.51L605.6,78.515L606.4,78.519L607.2,78.524L608,78.528L608.8,78.533L609.6,78.537L610.4,78.542L611.2,78.546L612,78.551L612.8,78.555L613.6,78.56L614.4,78.564L615.2,78.568L616,78.573L616.8,78.577L617.6,78.581L618.4,78.586L619.2,78.59L620,78.594L620.8,78.599L621.6,78.603L622.4,78.607L623.2,78.611L624,78.615L624.8,78.62L625.6,78.624L626.4,78.628L627.2,78.632L628,78.636L628.8,78.64L629.6,78.644L630.4,78.648L631.2,78.652L632,78.656L632.8,78.66L633.6,78.664L634.4,78.668L635.2,78.672L636,78.676L636.8,78.68L637.6,78.684L638.4,78.688L639.2,78.692L640,78.695L640.8,78.699L641.6,78.703L642.4,78.707L643.2,78.711L644,78.714L644.8,78.718L645.6,78.722L646.4,78.725L647.2,78.729L648,78.733L648.8,78.737L649.6,78.74L650.4,78.744L651.2,78.747L652,78.751L652.8,78.755L653.6,78.758L654.4,78.762L655.2,78.765L656,78.769L656.8,78.772L657.6,78.776L658.4,78.779L659.2,78.783L660,78.786L660.8,78.79L661.6,78.793L662.4,78.796L663.2,78.8L664,78.803L664.8,78.807L665.6,78.81L666.4,78.813L667.2,78.817L668,78.82L668.8,78.823L669.6,78.827L670.4,78.83L671.2,78.833L672,78.836L672.8,78.84L673.6,78.843L674.4,78.846L675.2,78.849L676,78.852L676.8,78.855L677.6,78.859L678.4,78.862L679.2,78.865L680,78.868L680.8,78.871L681.6,78.874L682.4,78.877L683.2,78.88L684,78.883L684.8,78.886L685.6,78.889L686.4,78.892L687.2,78.895L688,78.898L688.8,78.901L689.6,78.904L690.4,78.907L691.2,78.91L692,78.913L692.8,78.916L693.6,78.919L694.4,78.922L695.2,78.925L696,78.928L696.8,78.93L697.6,78.933L698.4,78.936L699.2,78.939L700,78.942L700.8,78.944L701.6,78.947L702.4,78.95L703.2,78.953L704,78.956L704.8,78.958L705.6,78.961L706.4,78.964L707.2,78.966L708,78.969L708.8,78.972L709.6,78.974L710.4,78.977L711.2,78.98L712,78.982L712.8,78.985L713.6,78.988L714.4,78.99L715.2,78.993L716,78.995L716.8,78.998L717.6,79L718.4,79.003L719.2,79.006L720,79.008L720.8,79.011L721.6,79.013L722.4,79.016L723.2,79.018L724,79.021L724.8,79.023L725.6,79.025L726.4,79.028L727.2,79.03L728,79.033L728.8,79.035L729.6,79.038L730.4,79.04L731.2,79.042L732,79.045L732.8,79.047L733.6,79.049L734.4,79.052L735.2,79.054L736,79.056L736.8,79.059L737.6,79.061L738.4,79.063L739.2,79.066L740,79.068L740.8,79.07L741.6,79.073L742.4,79.075L743.2,79.077L744,79.079L744.8,79.081L745.6,79.084L746.4,79.086L747.2,79.088L748,79.09L748.8,79.092L749.6,79.095L750.4,79.097L751.2,79.099L752,79.101L752.8,79.103L753.6,79.105L754.4,79.107L755.2,79.11L756,79.112L756.8,79.114L757.6,79.116L758.4,79.118L759.2,79.12L760,79.122L760.8,79.124L761.6,79.126L762.4,79.128L763.2,79.13L764,79.132L764.8,79.134L765.6,79.136L766.4,79.138L767.2,79.14L768,79.142L768.8,79.144L769.6,79.146L770.4,79.148L771.2,79.15L772,79.152L772.8,79.154L773.6,79.156L774.4,79.158L775.2,79.16L776,79.161L776.8,79.163L777.6,79.165L778.4,79.167L779.2,79.169L780,79.171L780.8,79.173L781.6,79.174L782.4,79.176L783.2,79.178L784,79.18L784.8,79.182L785.6,79.184L786.4,79.185L787.2,79.187L788,79.189L788.8,79.191L789.6,79.192L790.4,79.194L791.2,79.196L792,79.198L792.8,79.199L793.6,79.201L794.4,79.203L795.2,79.205L796,79.206L796.8,79.208L797.6,79.21L798.4,79.211L799.2,79.213L800,79.215\" stroke=\"#4c78a8\" stroke-width=\"2\"/></g><g class=\"mark-group role-title\"><g transform=\"translate(400,-17)\"><path class=\"background\" aria-hidden=\"true\" d=\"M0,0h0v0h0Z\" pointer-events=\"none\"/><g><g class=\"mark-text role-title-text\" role=\"graphics-symbol\" aria-roledescription=\"title\" aria-label=\"Title text 'Loss'\" pointer-events=\"none\"><text text-anchor=\"middle\" transform=\"translate(0,10)\" font-family=\"sans-serif\" font-size=\"13px\" font-weight=\"bold\" fill=\"#000\" opacity=\"1\">Loss</text></g></g><path class=\"foreground\" aria-hidden=\"true\" d=\"\" pointer-events=\"none\" display=\"none\"/></g></g></g><path class=\"foreground\" aria-hidden=\"true\" d=\"\" display=\"none\"/></g></g></g></svg>"
      ],
      "text/plain": [
       "@vlplot(\n",
       "    width=800,\n",
       "    title=\"Loss\",\n",
       "    mark=\"line\",\n",
       "    encoding={\n",
       "        x={\n",
       "            type=\"quantitative\",\n",
       "            field=\"x\",\n",
       "            title=nothing\n",
       "        },\n",
       "        y={\n",
       "            type=\"quantitative\",\n",
       "            field=\"y\",\n",
       "            title=nothing\n",
       "        }\n",
       "    },\n",
       "    data={\n",
       "        values=...\n",
       "    }\n",
       ")"
      ]
     },
     "metadata": {},
     "output_type": "display_data"
    }
   ],
   "source": [
    "@vlplot(:line, x = {collect(1:1000), type=\"quantitative\"}, y={losses, type=\"quantitative\"}, width=800, title=\"Loss\")"
   ]
  },
  {
   "attachments": {},
   "cell_type": "markdown",
   "metadata": {},
   "source": [
    "Now, we can do this for all hospitals, and compare the different benchmark models and their prediction errors. \n",
    "\n",
    "We initialise the parameters `betas` and `lrbetas` for both the increment model and the standard linear regression model estimated via classical maximum likelihood. For each model, we also initialize an array for the predictions from this model for each hospital.  "
   ]
  },
  {
   "cell_type": "code",
   "execution_count": 26,
   "metadata": {},
   "outputs": [
    {
     "data": {
      "text/plain": [
       "1281"
      ]
     },
     "metadata": {},
     "output_type": "display_data"
    }
   ],
   "source": [
    "nhospitals = length(unique(all_hospitals_df[:,:hospital]))"
   ]
  },
  {
   "cell_type": "code",
   "execution_count": 27,
   "metadata": {},
   "outputs": [],
   "source": [
    "betas = collect([0.0; 0.0; 0.0] for i in 1:nhospitals)\n",
    "lrbetas = collect([0.0; 0.0; 0.0] for i in 1:nhospitals)\n",
    "\n",
    "prederrs_mean = Array{Union{Float64, Missing}}(missing, nhospitals)\n",
    "prederrs_modmean = Array{Union{Float64, Missing}}(missing, nhospitals)\n",
    "prederrs_zero = Array{Union{Float64, Missing}}(missing, nhospitals)\n",
    "prederrs_linreg = Array{Union{Float64, Missing}}(missing, nhospitals)\n",
    "prederrs_incrmod = Array{Union{Float64, Missing}}(missing, nhospitals);"
   ]
  },
  {
   "cell_type": "code",
   "execution_count": 28,
   "metadata": {},
   "outputs": [
    {
     "name": "stdout",
     "output_type": "stream",
     "text": [
      "140.483531 seconds (1.56 G allocations: 62.424 GiB, 14.00% gc time, 0.44% compilation time)\n"
     ]
    }
   ],
   "source": [
    "@time for i = 1:nhospitals\n",
    "    # get the covariates and info about missing reports\n",
    "    curhospital = filter(row -> row[:hospital] == i, all_hospitals_df)\n",
    "    y, z, r = curhospital[1:end-1,:currentcases], curhospital[1:end-1,:incidences], curhospital[1:end-1,:reported]\n",
    "    last_currentcases, lastreported = curhospital[end,:currentcases], curhospital[end,:reported]\n",
    "\n",
    "    # run the gradient descent via automatic differentiation/differentiable programming\n",
    "    β = betas[i]\n",
    "    for epoch=1:150\n",
    "        curgrad = gradient(arg -> loss(y, z, r, arg), β)\n",
    "        β .-= [0.001, 0.01, 0.001] .* curgrad[1]\n",
    "    end\n",
    "    betas[i] = β\n",
    "\n",
    "    # calculate last increment based on the held-out final time point \n",
    "    lastincr = last_currentcases - y[end]\n",
    "\n",
    "    # calculate the prediction of the fitted models for this last increment\n",
    "    incrmod_pred = β[1] + β[2] * y[end] + β[3] * z[end]\n",
    "\n",
    "    # calculate the prediction of the mean and modified mean models\n",
    "    mean_pred = mean(diff(y))\n",
    "    modmean_pred = y[end] == 0.0 ? 0.0 : mean_pred\n",
    "\n",
    "    # coarse heuristic: if the fit goes wrong, use the mean model prediction as fallback\n",
    "    if isnan(incrmod_pred) || any(abs.(β) .> 10)\n",
    "        incrmod_pred = mean_pred\n",
    "    end\n",
    "\n",
    "    # fit standard linear regression model using the last-observation-carried-forward imputation in the :currentcases\n",
    "    slrdf = DataFrame(dy = diff(y), y = y[2:end], z = z[2:end])\n",
    "    ols = lm(@formula(dy ~ y + z), slrdf) # standard estimation using maximum likelihood\n",
    "    lrbeta = coef(ols) \n",
    "    lrbetas[i] = lrbeta\n",
    "    # calculate prediction of the standard linear regression model for the last increment \n",
    "    linreg_pred = lrbeta[1] + lrbeta[2] * y[end] + lrbeta[3] * z[end]\n",
    "\n",
    "    # include in the prediction error array only if the value at the last time point has actually been reported\n",
    "    if lastreported \n",
    "        prederrs_mean[i] = (lastincr - mean_pred)^2\n",
    "        prederrs_modmean[i] = (lastincr - modmean_pred)^2\n",
    "        prederrs_zero[i] = (lastincr - 0)^2\n",
    "        prederrs_linreg[i] = (lastincr - linreg_pred)^2\n",
    "        prederrs_incrmod[i] = (lastincr - incrmod_pred)^2\n",
    "    end\n",
    "end"
   ]
  },
  {
   "attachments": {},
   "cell_type": "markdown",
   "metadata": {},
   "source": [
    "We can now combine the prediction errors for all models in a dataframe and calculate summary statistics. "
   ]
  },
  {
   "cell_type": "code",
   "execution_count": 29,
   "metadata": {},
   "outputs": [
    {
     "data": {
      "text/html": [
       "<div class=\"data-frame\"><p>5 rows × 6 columns</p><table class=\"data-frame\"><thead><tr><th></th><th>Model</th><th>SSE</th><th>FirstQuartile</th><th>Median</th><th>ThirdQuartile</th><th>Maximum</th></tr><tr><th></th><th title=\"String\">String</th><th title=\"Float64\">Float64</th><th title=\"Float64\">Float64</th><th title=\"Float64\">Float64</th><th title=\"Float64\">Float64</th><th title=\"Float64\">Float64</th></tr></thead><tbody><tr><th>1</th><td>meanmodel</td><td>89.2388</td><td>0.0</td><td>0.0</td><td>0.002</td><td>9.0</td></tr><tr><th>2</th><td>modmeanmodel</td><td>84.3421</td><td>0.0</td><td>0.0</td><td>0.0</td><td>9.0</td></tr><tr><th>3</th><td>zeromodel</td><td>86.0</td><td>0.0</td><td>0.0</td><td>0.0</td><td>9.0</td></tr><tr><th>4</th><td>linregmodel</td><td>181.068</td><td>0.0</td><td>0.001</td><td>0.015</td><td>30.227</td></tr><tr><th>5</th><td>incrmodel</td><td>74.7457</td><td>0.0</td><td>0.0</td><td>0.001</td><td>6.079</td></tr></tbody></table></div>"
      ],
      "text/latex": [
       "\\begin{tabular}{r|cccccc}\n",
       "\t& Model & SSE & FirstQuartile & Median & ThirdQuartile & Maximum\\\\\n",
       "\t\\hline\n",
       "\t& String & Float64 & Float64 & Float64 & Float64 & Float64\\\\\n",
       "\t\\hline\n",
       "\t1 & meanmodel & 89.2388 & 0.0 & 0.0 & 0.002 & 9.0 \\\\\n",
       "\t2 & modmeanmodel & 84.3421 & 0.0 & 0.0 & 0.0 & 9.0 \\\\\n",
       "\t3 & zeromodel & 86.0 & 0.0 & 0.0 & 0.0 & 9.0 \\\\\n",
       "\t4 & linregmodel & 181.068 & 0.0 & 0.001 & 0.015 & 30.227 \\\\\n",
       "\t5 & incrmodel & 74.7457 & 0.0 & 0.0 & 0.001 & 6.079 \\\\\n",
       "\\end{tabular}\n"
      ],
      "text/plain": [
       "\u001b[1m5×6 DataFrame\u001b[0m\n",
       "\u001b[1m Row \u001b[0m│\u001b[1m Model        \u001b[0m\u001b[1m SSE      \u001b[0m\u001b[1m FirstQuartile \u001b[0m\u001b[1m Median  \u001b[0m\u001b[1m ThirdQuartile \u001b[0m\u001b[1m Maximum \u001b[0m\n",
       "\u001b[1m     \u001b[0m│\u001b[90m String       \u001b[0m\u001b[90m Float64  \u001b[0m\u001b[90m Float64       \u001b[0m\u001b[90m Float64 \u001b[0m\u001b[90m Float64       \u001b[0m\u001b[90m Float64 \u001b[0m\n",
       "─────┼────────────────────────────────────────────────────────────────────────\n",
       "   1 │ meanmodel      89.2388            0.0    0.0            0.002    9.0\n",
       "   2 │ modmeanmodel   84.3421            0.0    0.0            0.0      9.0\n",
       "   3 │ zeromodel      86.0               0.0    0.0            0.0      9.0\n",
       "   4 │ linregmodel   181.068             0.0    0.001          0.015   30.227\n",
       "   5 │ incrmodel      74.7457            0.0    0.0            0.001    6.079"
      ]
     },
     "metadata": {},
     "output_type": "display_data"
    }
   ],
   "source": [
    "nonmissinginds = findall(x -> !ismissing(x), prederrs_mean)\n",
    "prederrs_df = DataFrame(hospitals = nonmissinginds,\n",
    "                meanmodel = Float64.(prederrs_mean[nonmissinginds]),\n",
    "                modmeanmodel = Float64.(prederrs_modmean[nonmissinginds]),\n",
    "                zeromodel = Float64.(prederrs_zero[nonmissinginds]),\n",
    "                linregmodel = Float64.(prederrs_linreg[nonmissinginds]),\n",
    "                incrmodel = Float64.(prederrs_incrmod[nonmissinginds])\n",
    ")\n",
    "models = names(prederrs_df[!,2:end])\n",
    "summed_squared_errors = sum.(eachcol(prederrs_df[!,2:end]))\n",
    "medians = round.(median.(eachcol(prederrs_df[!,2:end])), digits=3)\n",
    "firstquartile = round.(quantile.(eachcol(prederrs_df[!,2:end]), 0.25), digits=3)\n",
    "thirdquartile = round.(quantile.(eachcol(prederrs_df[!,2:end]), 0.75), digits=3)\n",
    "maxvals = round.(maximum.(eachcol(prederrs_df[!,2:end])), digits=3)\n",
    "summary_df = DataFrame(Model = models, \n",
    "                    SSE = summed_squared_errors,\n",
    "                    FirstQuartile = firstquartile,\n",
    "                    Median = medians, \n",
    "                    ThirdQuartile = thirdquartile,\n",
    "                    Maximum = maxvals\n",
    ")"
   ]
  },
  {
   "attachments": {},
   "cell_type": "markdown",
   "metadata": {},
   "source": [
    "If you want to know more details, you can [read the paper](https://doi.org/10.1080/00031305.2021.2002189) ([arXiv version here](https://arxiv.org/abs/2012.05722)) or have a closer look at the [GitHub repository](https://github.com/maren-ha/DifferentiableProgrammingForStatisticalModeling) with the code + Jupyter notebooks to reproduce all analyses and auxiliary. \n",
    "\n",
    "![](auxiliary/TAS.png)"
   ]
  }
 ],
 "metadata": {
  "kernelspec": {
   "display_name": "Julia 1.8.3",
   "language": "julia",
   "name": "julia-1.8"
  },
  "language_info": {
   "file_extension": ".jl",
   "mimetype": "application/julia",
   "name": "julia",
   "version": "1.8.3"
  },
  "orig_nbformat": 4
 },
 "nbformat": 4,
 "nbformat_minor": 2
}
